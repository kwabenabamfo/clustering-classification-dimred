{
  "nbformat": 4,
  "nbformat_minor": 0,
  "metadata": {
    "colab": {
      "name": "Kwabena Bamfo - 3.1 Clustering, Classification, Dimension Reduction.ipynb",
      "provenance": [],
      "collapsed_sections": [],
      "toc_visible": true
    },
    "kernelspec": {
      "name": "python3",
      "display_name": "Python 3"
    }
  },
  "cells": [
    {
      "cell_type": "markdown",
      "metadata": {
        "id": "6dGR3AtUzZ3p"
      },
      "source": [
        "# **Classification Work** "
      ]
    },
    {
      "cell_type": "markdown",
      "metadata": {
        "id": "ZeTw9g6j668u"
      },
      "source": [
        "## **Importing a dataset**"
      ]
    },
    {
      "cell_type": "code",
      "metadata": {
        "id": "FFSD1HyfpSYm"
      },
      "source": [
        "from sklearn import datasets"
      ],
      "execution_count": null,
      "outputs": []
    },
    {
      "cell_type": "code",
      "metadata": {
        "id": "_DPqJ4wLsLIM"
      },
      "source": [
        "wine = datasets.load_wine()"
      ],
      "execution_count": null,
      "outputs": []
    },
    {
      "cell_type": "code",
      "metadata": {
        "id": "KIXlQv6OvqBR",
        "colab": {
          "base_uri": "https://localhost:8080/",
          "height": 238
        },
        "outputId": "87eb8c54-bca4-471f-f9d6-76c28b78608b"
      },
      "source": [
        "wine.data"
      ],
      "execution_count": null,
      "outputs": [
        {
          "output_type": "execute_result",
          "data": {
            "text/plain": [
              "array([[1.423e+01, 1.710e+00, 2.430e+00, ..., 1.040e+00, 3.920e+00,\n",
              "        1.065e+03],\n",
              "       [1.320e+01, 1.780e+00, 2.140e+00, ..., 1.050e+00, 3.400e+00,\n",
              "        1.050e+03],\n",
              "       [1.316e+01, 2.360e+00, 2.670e+00, ..., 1.030e+00, 3.170e+00,\n",
              "        1.185e+03],\n",
              "       ...,\n",
              "       [1.327e+01, 4.280e+00, 2.260e+00, ..., 5.900e-01, 1.560e+00,\n",
              "        8.350e+02],\n",
              "       [1.317e+01, 2.590e+00, 2.370e+00, ..., 6.000e-01, 1.620e+00,\n",
              "        8.400e+02],\n",
              "       [1.413e+01, 4.100e+00, 2.740e+00, ..., 6.100e-01, 1.600e+00,\n",
              "        5.600e+02]])"
            ]
          },
          "metadata": {
            "tags": []
          },
          "execution_count": 37
        }
      ]
    },
    {
      "cell_type": "code",
      "metadata": {
        "id": "XFxEwHWtvtWm",
        "colab": {
          "base_uri": "https://localhost:8080/",
          "height": 34
        },
        "outputId": "9aea2595-aa27-48c6-f0f3-3ae3dca4216a"
      },
      "source": [
        "wine.data.shape"
      ],
      "execution_count": null,
      "outputs": [
        {
          "output_type": "execute_result",
          "data": {
            "text/plain": [
              "(178, 13)"
            ]
          },
          "metadata": {
            "tags": []
          },
          "execution_count": 38
        }
      ]
    },
    {
      "cell_type": "code",
      "metadata": {
        "id": "bD4C4w81vyfw",
        "colab": {
          "base_uri": "https://localhost:8080/",
          "height": 238
        },
        "outputId": "06358dbd-5860-4a10-9549-cfc15207b98b"
      },
      "source": [
        "wine.feature_names"
      ],
      "execution_count": null,
      "outputs": [
        {
          "output_type": "execute_result",
          "data": {
            "text/plain": [
              "['alcohol',\n",
              " 'malic_acid',\n",
              " 'ash',\n",
              " 'alcalinity_of_ash',\n",
              " 'magnesium',\n",
              " 'total_phenols',\n",
              " 'flavanoids',\n",
              " 'nonflavanoid_phenols',\n",
              " 'proanthocyanins',\n",
              " 'color_intensity',\n",
              " 'hue',\n",
              " 'od280/od315_of_diluted_wines',\n",
              " 'proline']"
            ]
          },
          "metadata": {
            "tags": []
          },
          "execution_count": 6
        }
      ]
    },
    {
      "cell_type": "code",
      "metadata": {
        "id": "0ZeWu-7rv17D",
        "colab": {
          "base_uri": "https://localhost:8080/",
          "height": 170
        },
        "outputId": "b6f1191e-7927-4e55-e79b-97cc38ebce03"
      },
      "source": [
        "wine.target"
      ],
      "execution_count": null,
      "outputs": [
        {
          "output_type": "execute_result",
          "data": {
            "text/plain": [
              "array([0, 0, 0, 0, 0, 0, 0, 0, 0, 0, 0, 0, 0, 0, 0, 0, 0, 0, 0, 0, 0, 0,\n",
              "       0, 0, 0, 0, 0, 0, 0, 0, 0, 0, 0, 0, 0, 0, 0, 0, 0, 0, 0, 0, 0, 0,\n",
              "       0, 0, 0, 0, 0, 0, 0, 0, 0, 0, 0, 0, 0, 0, 0, 1, 1, 1, 1, 1, 1, 1,\n",
              "       1, 1, 1, 1, 1, 1, 1, 1, 1, 1, 1, 1, 1, 1, 1, 1, 1, 1, 1, 1, 1, 1,\n",
              "       1, 1, 1, 1, 1, 1, 1, 1, 1, 1, 1, 1, 1, 1, 1, 1, 1, 1, 1, 1, 1, 1,\n",
              "       1, 1, 1, 1, 1, 1, 1, 1, 1, 1, 1, 1, 1, 1, 1, 1, 1, 1, 1, 1, 2, 2,\n",
              "       2, 2, 2, 2, 2, 2, 2, 2, 2, 2, 2, 2, 2, 2, 2, 2, 2, 2, 2, 2, 2, 2,\n",
              "       2, 2, 2, 2, 2, 2, 2, 2, 2, 2, 2, 2, 2, 2, 2, 2, 2, 2, 2, 2, 2, 2,\n",
              "       2, 2])"
            ]
          },
          "metadata": {
            "tags": []
          },
          "execution_count": 7
        }
      ]
    },
    {
      "cell_type": "code",
      "metadata": {
        "id": "2fo6RJmJv5g7",
        "colab": {
          "base_uri": "https://localhost:8080/",
          "height": 34
        },
        "outputId": "c0bf25f5-c271-48d8-d435-1ebb8cf2fdf3"
      },
      "source": [
        "wine.target.shape"
      ],
      "execution_count": null,
      "outputs": [
        {
          "output_type": "execute_result",
          "data": {
            "text/plain": [
              "(178,)"
            ]
          },
          "metadata": {
            "tags": []
          },
          "execution_count": 10
        }
      ]
    },
    {
      "cell_type": "code",
      "metadata": {
        "id": "WCtBJth9v-qx",
        "colab": {
          "base_uri": "https://localhost:8080/",
          "height": 34
        },
        "outputId": "6b5635e6-fe65-42f5-b42d-278bbad969d7"
      },
      "source": [
        "import numpy as np\n",
        "np.unique (wine.target)"
      ],
      "execution_count": null,
      "outputs": [
        {
          "output_type": "execute_result",
          "data": {
            "text/plain": [
              "array([0, 1, 2])"
            ]
          },
          "metadata": {
            "tags": []
          },
          "execution_count": 11
        }
      ]
    },
    {
      "cell_type": "code",
      "metadata": {
        "id": "ZzvwueZywMWx",
        "colab": {
          "base_uri": "https://localhost:8080/",
          "height": 34
        },
        "outputId": "71d694c7-504d-4a17-d557-384151b5a2ae"
      },
      "source": [
        "wine.target_names"
      ],
      "execution_count": null,
      "outputs": [
        {
          "output_type": "execute_result",
          "data": {
            "text/plain": [
              "array(['class_0', 'class_1', 'class_2'], dtype='<U7')"
            ]
          },
          "metadata": {
            "tags": []
          },
          "execution_count": 12
        }
      ]
    },
    {
      "cell_type": "markdown",
      "metadata": {
        "id": "GJpqR9fZ7ELb"
      },
      "source": [
        "## **Data Visualization**"
      ]
    },
    {
      "cell_type": "code",
      "metadata": {
        "id": "If9Ekw7Z7KFT",
        "colab": {
          "base_uri": "https://localhost:8080/",
          "height": 439
        },
        "outputId": "c801f41b-c7a0-4404-c916-1f8609845535"
      },
      "source": [
        "import pandas as pd\n",
        "wine_df = pd.DataFrame(wine.data, columns=wine.feature_names)\n",
        "wine_df"
      ],
      "execution_count": null,
      "outputs": [
        {
          "output_type": "execute_result",
          "data": {
            "text/html": [
              "<div>\n",
              "<style scoped>\n",
              "    .dataframe tbody tr th:only-of-type {\n",
              "        vertical-align: middle;\n",
              "    }\n",
              "\n",
              "    .dataframe tbody tr th {\n",
              "        vertical-align: top;\n",
              "    }\n",
              "\n",
              "    .dataframe thead th {\n",
              "        text-align: right;\n",
              "    }\n",
              "</style>\n",
              "<table border=\"1\" class=\"dataframe\">\n",
              "  <thead>\n",
              "    <tr style=\"text-align: right;\">\n",
              "      <th></th>\n",
              "      <th>alcohol</th>\n",
              "      <th>malic_acid</th>\n",
              "      <th>ash</th>\n",
              "      <th>alcalinity_of_ash</th>\n",
              "      <th>magnesium</th>\n",
              "      <th>total_phenols</th>\n",
              "      <th>flavanoids</th>\n",
              "      <th>nonflavanoid_phenols</th>\n",
              "      <th>proanthocyanins</th>\n",
              "      <th>color_intensity</th>\n",
              "      <th>hue</th>\n",
              "      <th>od280/od315_of_diluted_wines</th>\n",
              "      <th>proline</th>\n",
              "    </tr>\n",
              "  </thead>\n",
              "  <tbody>\n",
              "    <tr>\n",
              "      <th>0</th>\n",
              "      <td>14.23</td>\n",
              "      <td>1.71</td>\n",
              "      <td>2.43</td>\n",
              "      <td>15.6</td>\n",
              "      <td>127.0</td>\n",
              "      <td>2.80</td>\n",
              "      <td>3.06</td>\n",
              "      <td>0.28</td>\n",
              "      <td>2.29</td>\n",
              "      <td>5.64</td>\n",
              "      <td>1.04</td>\n",
              "      <td>3.92</td>\n",
              "      <td>1065.0</td>\n",
              "    </tr>\n",
              "    <tr>\n",
              "      <th>1</th>\n",
              "      <td>13.20</td>\n",
              "      <td>1.78</td>\n",
              "      <td>2.14</td>\n",
              "      <td>11.2</td>\n",
              "      <td>100.0</td>\n",
              "      <td>2.65</td>\n",
              "      <td>2.76</td>\n",
              "      <td>0.26</td>\n",
              "      <td>1.28</td>\n",
              "      <td>4.38</td>\n",
              "      <td>1.05</td>\n",
              "      <td>3.40</td>\n",
              "      <td>1050.0</td>\n",
              "    </tr>\n",
              "    <tr>\n",
              "      <th>2</th>\n",
              "      <td>13.16</td>\n",
              "      <td>2.36</td>\n",
              "      <td>2.67</td>\n",
              "      <td>18.6</td>\n",
              "      <td>101.0</td>\n",
              "      <td>2.80</td>\n",
              "      <td>3.24</td>\n",
              "      <td>0.30</td>\n",
              "      <td>2.81</td>\n",
              "      <td>5.68</td>\n",
              "      <td>1.03</td>\n",
              "      <td>3.17</td>\n",
              "      <td>1185.0</td>\n",
              "    </tr>\n",
              "    <tr>\n",
              "      <th>3</th>\n",
              "      <td>14.37</td>\n",
              "      <td>1.95</td>\n",
              "      <td>2.50</td>\n",
              "      <td>16.8</td>\n",
              "      <td>113.0</td>\n",
              "      <td>3.85</td>\n",
              "      <td>3.49</td>\n",
              "      <td>0.24</td>\n",
              "      <td>2.18</td>\n",
              "      <td>7.80</td>\n",
              "      <td>0.86</td>\n",
              "      <td>3.45</td>\n",
              "      <td>1480.0</td>\n",
              "    </tr>\n",
              "    <tr>\n",
              "      <th>4</th>\n",
              "      <td>13.24</td>\n",
              "      <td>2.59</td>\n",
              "      <td>2.87</td>\n",
              "      <td>21.0</td>\n",
              "      <td>118.0</td>\n",
              "      <td>2.80</td>\n",
              "      <td>2.69</td>\n",
              "      <td>0.39</td>\n",
              "      <td>1.82</td>\n",
              "      <td>4.32</td>\n",
              "      <td>1.04</td>\n",
              "      <td>2.93</td>\n",
              "      <td>735.0</td>\n",
              "    </tr>\n",
              "    <tr>\n",
              "      <th>...</th>\n",
              "      <td>...</td>\n",
              "      <td>...</td>\n",
              "      <td>...</td>\n",
              "      <td>...</td>\n",
              "      <td>...</td>\n",
              "      <td>...</td>\n",
              "      <td>...</td>\n",
              "      <td>...</td>\n",
              "      <td>...</td>\n",
              "      <td>...</td>\n",
              "      <td>...</td>\n",
              "      <td>...</td>\n",
              "      <td>...</td>\n",
              "    </tr>\n",
              "    <tr>\n",
              "      <th>173</th>\n",
              "      <td>13.71</td>\n",
              "      <td>5.65</td>\n",
              "      <td>2.45</td>\n",
              "      <td>20.5</td>\n",
              "      <td>95.0</td>\n",
              "      <td>1.68</td>\n",
              "      <td>0.61</td>\n",
              "      <td>0.52</td>\n",
              "      <td>1.06</td>\n",
              "      <td>7.70</td>\n",
              "      <td>0.64</td>\n",
              "      <td>1.74</td>\n",
              "      <td>740.0</td>\n",
              "    </tr>\n",
              "    <tr>\n",
              "      <th>174</th>\n",
              "      <td>13.40</td>\n",
              "      <td>3.91</td>\n",
              "      <td>2.48</td>\n",
              "      <td>23.0</td>\n",
              "      <td>102.0</td>\n",
              "      <td>1.80</td>\n",
              "      <td>0.75</td>\n",
              "      <td>0.43</td>\n",
              "      <td>1.41</td>\n",
              "      <td>7.30</td>\n",
              "      <td>0.70</td>\n",
              "      <td>1.56</td>\n",
              "      <td>750.0</td>\n",
              "    </tr>\n",
              "    <tr>\n",
              "      <th>175</th>\n",
              "      <td>13.27</td>\n",
              "      <td>4.28</td>\n",
              "      <td>2.26</td>\n",
              "      <td>20.0</td>\n",
              "      <td>120.0</td>\n",
              "      <td>1.59</td>\n",
              "      <td>0.69</td>\n",
              "      <td>0.43</td>\n",
              "      <td>1.35</td>\n",
              "      <td>10.20</td>\n",
              "      <td>0.59</td>\n",
              "      <td>1.56</td>\n",
              "      <td>835.0</td>\n",
              "    </tr>\n",
              "    <tr>\n",
              "      <th>176</th>\n",
              "      <td>13.17</td>\n",
              "      <td>2.59</td>\n",
              "      <td>2.37</td>\n",
              "      <td>20.0</td>\n",
              "      <td>120.0</td>\n",
              "      <td>1.65</td>\n",
              "      <td>0.68</td>\n",
              "      <td>0.53</td>\n",
              "      <td>1.46</td>\n",
              "      <td>9.30</td>\n",
              "      <td>0.60</td>\n",
              "      <td>1.62</td>\n",
              "      <td>840.0</td>\n",
              "    </tr>\n",
              "    <tr>\n",
              "      <th>177</th>\n",
              "      <td>14.13</td>\n",
              "      <td>4.10</td>\n",
              "      <td>2.74</td>\n",
              "      <td>24.5</td>\n",
              "      <td>96.0</td>\n",
              "      <td>2.05</td>\n",
              "      <td>0.76</td>\n",
              "      <td>0.56</td>\n",
              "      <td>1.35</td>\n",
              "      <td>9.20</td>\n",
              "      <td>0.61</td>\n",
              "      <td>1.60</td>\n",
              "      <td>560.0</td>\n",
              "    </tr>\n",
              "  </tbody>\n",
              "</table>\n",
              "<p>178 rows × 13 columns</p>\n",
              "</div>"
            ],
            "text/plain": [
              "     alcohol  malic_acid   ash  ...   hue  od280/od315_of_diluted_wines  proline\n",
              "0      14.23        1.71  2.43  ...  1.04                          3.92   1065.0\n",
              "1      13.20        1.78  2.14  ...  1.05                          3.40   1050.0\n",
              "2      13.16        2.36  2.67  ...  1.03                          3.17   1185.0\n",
              "3      14.37        1.95  2.50  ...  0.86                          3.45   1480.0\n",
              "4      13.24        2.59  2.87  ...  1.04                          2.93    735.0\n",
              "..       ...         ...   ...  ...   ...                           ...      ...\n",
              "173    13.71        5.65  2.45  ...  0.64                          1.74    740.0\n",
              "174    13.40        3.91  2.48  ...  0.70                          1.56    750.0\n",
              "175    13.27        4.28  2.26  ...  0.59                          1.56    835.0\n",
              "176    13.17        2.59  2.37  ...  0.60                          1.62    840.0\n",
              "177    14.13        4.10  2.74  ...  0.61                          1.60    560.0\n",
              "\n",
              "[178 rows x 13 columns]"
            ]
          },
          "metadata": {
            "tags": []
          },
          "execution_count": 39
        }
      ]
    },
    {
      "cell_type": "code",
      "metadata": {
        "id": "tHPRr9IM7coz",
        "colab": {
          "base_uri": "https://localhost:8080/",
          "height": 899
        },
        "outputId": "efc62ffc-65ec-4dc9-f292-4a8cf0cd2b4d"
      },
      "source": [
        "wine_df.hist(figsize=(20, 15))\n",
        "plt.show()"
      ],
      "execution_count": null,
      "outputs": [
        {
          "output_type": "display_data",
          "data": {
            "image/png": "[encoded data removed]",
            "text/plain": [
              "<Figure size 1440x1080 with 16 Axes>"
            ]
          },
          "metadata": {
            "tags": []
          }
        }
      ]
    },
    {
      "cell_type": "code",
      "metadata": {
        "id": "S1kksgix9Jx1",
        "colab": {
          "base_uri": "https://localhost:8080/",
          "height": 85
        },
        "outputId": "2c086a24-2e88-438b-9032-5af6e69404fd"
      },
      "source": [
        "np.where (wine.target == 0)\n"
      ],
      "execution_count": null,
      "outputs": [
        {
          "output_type": "execute_result",
          "data": {
            "text/plain": [
              "(array([ 0,  1,  2,  3,  4,  5,  6,  7,  8,  9, 10, 11, 12, 13, 14, 15, 16,\n",
              "        17, 18, 19, 20, 21, 22, 23, 24, 25, 26, 27, 28, 29, 30, 31, 32, 33,\n",
              "        34, 35, 36, 37, 38, 39, 40, 41, 42, 43, 44, 45, 46, 47, 48, 49, 50,\n",
              "        51, 52, 53, 54, 55, 56, 57, 58]),)"
            ]
          },
          "metadata": {
            "tags": []
          },
          "execution_count": 29
        }
      ]
    },
    {
      "cell_type": "code",
      "metadata": {
        "id": "bMRLHrOm9TBV",
        "colab": {
          "base_uri": "https://localhost:8080/",
          "height": 282
        },
        "outputId": "49a955ed-60f9-4a19-86e7-8ceea2689140"
      },
      "source": [
        "%pylab inline\n",
        "for classes in np.unique(wine.target):\n",
        "  plt.figure(1)\n",
        "  wine_df['alcohol'].iloc[np.where(wine.target == classes)[0]].hist(bins=30)"
      ],
      "execution_count": null,
      "outputs": [
        {
          "output_type": "stream",
          "text": [
            "Populating the interactive namespace from numpy and matplotlib\n"
          ],
          "name": "stdout"
        },
        {
          "output_type": "display_data",
          "data": {
            "image/png": "[encoded data removed]",
            "text/plain": [
              "<Figure size 432x288 with 1 Axes>"
            ]
          },
          "metadata": {
            "tags": []
          }
        }
      ]
    },
    {
      "cell_type": "code",
      "metadata": {
        "id": "D87fWKt_AM-h",
        "colab": {
          "base_uri": "https://localhost:8080/",
          "height": 265
        },
        "outputId": "a56fefd4-9027-4403-9393-85ac5d9ea9a1"
      },
      "source": [
        "for classes in np.unique(wine.target):\n",
        "  plt.figure(1)\n",
        "  wine_df['malic_acid'].iloc[np.where(wine.target == classes)[0]].hist(bins=30)"
      ],
      "execution_count": null,
      "outputs": [
        {
          "output_type": "display_data",
          "data": {
            "image/png": "[encoded data removed]",
            "text/plain": [
              "<Figure size 432x288 with 1 Axes>"
            ]
          },
          "metadata": {
            "tags": []
          }
        }
      ]
    },
    {
      "cell_type": "code",
      "metadata": {
        "id": "Fmj1kXrNARgP",
        "colab": {
          "base_uri": "https://localhost:8080/",
          "height": 265
        },
        "outputId": "0170f9ea-f25c-41c9-efd6-c79fe17f8869"
      },
      "source": [
        "for classes in np.unique(wine.target):\n",
        "  plt.figure(1)\n",
        "  wine_df['ash'].iloc[np.where(wine.target == classes)[0]].hist(bins=30)"
      ],
      "execution_count": null,
      "outputs": [
        {
          "output_type": "display_data",
          "data": {
            "image/png": "[encoded data removed]",
            "text/plain": [
              "<Figure size 432x288 with 1 Axes>"
            ]
          },
          "metadata": {
            "tags": []
          }
        }
      ]
    },
    {
      "cell_type": "code",
      "metadata": {
        "id": "Su3k_j1GAUYJ",
        "colab": {
          "base_uri": "https://localhost:8080/",
          "height": 265
        },
        "outputId": "c923ca68-3bc1-4432-e39c-7147e319cebc"
      },
      "source": [
        "for classes in np.unique(wine.target):\n",
        "  plt.figure(1)\n",
        "  wine_df['magnesium'].iloc[np.where(wine.target == classes)[0]].hist(bins=30)"
      ],
      "execution_count": null,
      "outputs": [
        {
          "output_type": "display_data",
          "data": {
            "image/png": "[encoded data removed]",
            "text/plain": [
              "<Figure size 432x288 with 1 Axes>"
            ]
          },
          "metadata": {
            "tags": []
          }
        }
      ]
    },
    {
      "cell_type": "code",
      "metadata": {
        "id": "21dZ_LONAZxX",
        "colab": {
          "base_uri": "https://localhost:8080/",
          "height": 265
        },
        "outputId": "eb35df83-20f4-4927-9391-91f2ad06b139"
      },
      "source": [
        "for classes in np.unique(wine.target):\n",
        "  plt.figure(1)\n",
        "  wine_df['color_intensity'].iloc[np.where(wine.target == classes)[0]].hist(bins=30)"
      ],
      "execution_count": null,
      "outputs": [
        {
          "output_type": "display_data",
          "data": {
            "image/png": "[encoded data removed]",
            "text/plain": [
              "<Figure size 432x288 with 1 Axes>"
            ]
          },
          "metadata": {
            "tags": []
          }
        }
      ]
    },
    {
      "cell_type": "code",
      "metadata": {
        "id": "YrZRTAgpS87G"
      },
      "source": [
        "import seaborn as sns\n",
        "import warnings\n",
        "warnings.filterwarnings(\"ignore\")"
      ],
      "execution_count": null,
      "outputs": []
    },
    {
      "cell_type": "code",
      "metadata": {
        "id": "MjdCc_hHUHTk",
        "colab": {
          "base_uri": "https://localhost:8080/",
          "height": 427
        },
        "outputId": "5981835d-f61e-4345-fc52-c4241f29ba93"
      },
      "source": [
        "corr = wine_df[wine_df.columns].corr()\n",
        "sns.heatmap(corr, cmap=\"YlGnBu\", annot = True)"
      ],
      "execution_count": null,
      "outputs": [
        {
          "output_type": "execute_result",
          "data": {
            "text/plain": [
              "<matplotlib.axes._subplots.AxesSubplot at 0x7ff109e891d0>"
            ]
          },
          "metadata": {
            "tags": []
          },
          "execution_count": 45
        },
        {
          "output_type": "display_data",
          "data": {
            "image/png": "[encoded data removed]",
            "text/plain": [
              "<Figure size 432x288 with 2 Axes>"
            ]
          },
          "metadata": {
            "tags": []
          }
        }
      ]
    },
    {
      "cell_type": "code",
      "metadata": {
        "id": "rCmijeWXY2DW",
        "colab": {
          "base_uri": "https://localhost:8080/",
          "height": 337
        },
        "outputId": "9eee98da-5ac9-4e62-cc18-7058e87ef7b0"
      },
      "source": [
        "plt.figure(figsize=(12,5))\n",
        "# First graph\n",
        "plt.subplot(121)\n",
        "plt.scatter(wine.data[:,5], wine.data[:,6], c=wine.target)\n",
        "# Second graph\n",
        "plt.subplot(122)\n",
        "plt.scatter(wine.data[:,6], wine.data[:,11], c=wine.target)"
      ],
      "execution_count": null,
      "outputs": [
        {
          "output_type": "execute_result",
          "data": {
            "text/plain": [
              "<matplotlib.collections.PathCollection at 0x7ff109e02e48>"
            ]
          },
          "metadata": {
            "tags": []
          },
          "execution_count": 60
        },
        {
          "output_type": "display_data",
          "data": {
            "image/png": "[encoded data removed]",
            "text/plain": [
              "<Figure size 864x360 with 2 Axes>"
            ]
          },
          "metadata": {
            "tags": []
          }
        }
      ]
    },
    {
      "cell_type": "markdown",
      "metadata": {
        "id": "aLfXmFvDaAh8"
      },
      "source": [
        "## **Classification by SVM (linear)**"
      ]
    },
    {
      "cell_type": "code",
      "metadata": {
        "id": "LhR_D2OdUH_3"
      },
      "source": [
        "X = wine.data[:,:]\n",
        "y = wine.target"
      ],
      "execution_count": null,
      "outputs": []
    },
    {
      "cell_type": "code",
      "metadata": {
        "id": "M1FUS9KIWX9X"
      },
      "source": [
        "from sklearn.model_selection import train_test_split\n",
        "X_train, X_test, y_train, y_test = train_test_split(X, y, test_size=0.2, random_state=42)"
      ],
      "execution_count": null,
      "outputs": []
    },
    {
      "cell_type": "code",
      "metadata": {
        "id": "edeQyFFeWbEu"
      },
      "source": [
        "from sklearn.svm import SVC\n",
        "clf = SVC(kernel='linear', random_state=42)"
      ],
      "execution_count": null,
      "outputs": []
    },
    {
      "cell_type": "code",
      "metadata": {
        "id": "DHNMR2ndWhwE",
        "colab": {
          "base_uri": "https://localhost:8080/",
          "height": 85
        },
        "outputId": "41af6eb0-952e-42b9-b680-7be8f3bdbb31"
      },
      "source": [
        "clf.fit(X_train, y_train)"
      ],
      "execution_count": null,
      "outputs": [
        {
          "output_type": "execute_result",
          "data": {
            "text/plain": [
              "SVC(C=1.0, cache_size=200, class_weight=None, coef0=0.0,\n",
              "    decision_function_shape='ovr', degree=3, gamma='auto_deprecated',\n",
              "    kernel='linear', max_iter=-1, probability=False, random_state=42,\n",
              "    shrinking=True, tol=0.001, verbose=False)"
            ]
          },
          "metadata": {
            "tags": []
          },
          "execution_count": 205
        }
      ]
    },
    {
      "cell_type": "code",
      "metadata": {
        "id": "8uRCsIYSWmBx",
        "colab": {
          "base_uri": "https://localhost:8080/",
          "height": 51
        },
        "outputId": "1849f092-6a54-410f-d214-33d6524a6a4e"
      },
      "source": [
        "y_pred = clf.predict(X_test)\n",
        "print(y_test)\n",
        "print(y_pred)"
      ],
      "execution_count": null,
      "outputs": [
        {
          "output_type": "stream",
          "text": [
            "[0 0 2 0 1 0 1 2 1 2 0 2 0 1 0 1 1 1 0 1 0 1 1 2 2 2 1 1 1 0 0 1 2 0 0 0]\n",
            "[0 0 2 0 1 0 1 2 1 2 0 2 0 1 0 1 1 1 0 1 0 1 1 2 2 2 1 1 1 0 0 1 2 0 0 0]\n"
          ],
          "name": "stdout"
        }
      ]
    },
    {
      "cell_type": "markdown",
      "metadata": {
        "id": "__-1VUuOabMi"
      },
      "source": [
        "### ***Accuracy Score***"
      ]
    },
    {
      "cell_type": "code",
      "metadata": {
        "id": "yIBoY3RoWqJl",
        "colab": {
          "base_uri": "https://localhost:8080/",
          "height": 34
        },
        "outputId": "f0073d3a-7673-4de8-8432-a4e077155452"
      },
      "source": [
        "from sklearn.metrics import accuracy_score\n",
        "accuracy_score(y_test,y_pred)"
      ],
      "execution_count": null,
      "outputs": [
        {
          "output_type": "execute_result",
          "data": {
            "text/plain": [
              "1.0"
            ]
          },
          "metadata": {
            "tags": []
          },
          "execution_count": 207
        }
      ]
    },
    {
      "cell_type": "markdown",
      "metadata": {
        "id": "EPDfb9Gkai-O"
      },
      "source": [
        "### ***Cross Validation Score***"
      ]
    },
    {
      "cell_type": "code",
      "metadata": {
        "id": "m8kdLuZ8Wv-c",
        "colab": {
          "base_uri": "https://localhost:8080/",
          "height": 51
        },
        "outputId": "0f51e0ea-db64-4570-ca33-d0e3cba6b193"
      },
      "source": [
        "from sklearn.model_selection import cross_val_score\n",
        "from sklearn.model_selection import KFold\n",
        "\n",
        "kfold = KFold(n_splits=10, random_state=0)\n",
        "scoring = 'accuracy'\n",
        "\n",
        "svc_scores = cross_val_score(clf, X_train, y_train, cv=kfold, scoring=scoring)\n",
        "svc_scores"
      ],
      "execution_count": null,
      "outputs": [
        {
          "output_type": "execute_result",
          "data": {
            "text/plain": [
              "array([0.93333333, 1.        , 1.        , 0.92857143, 0.85714286,\n",
              "       1.        , 0.85714286, 0.92857143, 0.92857143, 1.        ])"
            ]
          },
          "metadata": {
            "tags": []
          },
          "execution_count": 208
        }
      ]
    },
    {
      "cell_type": "code",
      "metadata": {
        "id": "PTC83OlEXBCh",
        "colab": {
          "base_uri": "https://localhost:8080/",
          "height": 51
        },
        "outputId": "5ac5bbd6-c9e2-4b2e-8a30-2a4dac148fa9"
      },
      "source": [
        "print(\"Mean : {0:.4f}\".format(svc_scores.mean()))\n",
        "print(\"Standard Deviation : {0:.4f}\".format(svc_scores.std()))"
      ],
      "execution_count": null,
      "outputs": [
        {
          "output_type": "stream",
          "text": [
            "Mean : 0.9433\n",
            "Standard Deviation : 0.0533\n"
          ],
          "name": "stdout"
        }
      ]
    },
    {
      "cell_type": "markdown",
      "metadata": {
        "id": "hk2AT5rua7aK"
      },
      "source": [
        "## **Classification by SVM (rbf)**"
      ]
    },
    {
      "cell_type": "code",
      "metadata": {
        "id": "Kz4sFzZDbkU0",
        "colab": {
          "base_uri": "https://localhost:8080/",
          "height": 51
        },
        "outputId": "b616bd4e-7028-4088-f3d0-ada9319fb952"
      },
      "source": [
        "clf = SVC(kernel='rbf', random_state=42)\n",
        "clf.fit(X_train, y_train)\n",
        "y_pred = clf.predict(X_test)\n",
        "print(y_test)\n",
        "print(y_pred)"
      ],
      "execution_count": null,
      "outputs": [
        {
          "output_type": "stream",
          "text": [
            "[0 0 2 0 1 0 1 2 1 2 0 2 0 1 0 1 1 1 0 1 0 1 1 2 2 2 1 1 1 0 0 1 2 0 0 0]\n",
            "[1 1 1 1 1 1 1 2 1 1 1 1 1 1 1 1 1 1 0 1 1 1 1 1 1 1 1 1 1 1 1 1 1 1 1 1]\n"
          ],
          "name": "stdout"
        }
      ]
    },
    {
      "cell_type": "code",
      "metadata": {
        "id": "WctbxQHPcsZQ",
        "colab": {
          "base_uri": "https://localhost:8080/",
          "height": 34
        },
        "outputId": "19671ef4-af6a-4680-ca82-ed557f7db17a"
      },
      "source": [
        "accuracy_score(y_test,y_pred)"
      ],
      "execution_count": null,
      "outputs": [
        {
          "output_type": "execute_result",
          "data": {
            "text/plain": [
              "0.4444444444444444"
            ]
          },
          "metadata": {
            "tags": []
          },
          "execution_count": 211
        }
      ]
    },
    {
      "cell_type": "code",
      "metadata": {
        "id": "nYLERyMbc_mj",
        "colab": {
          "base_uri": "https://localhost:8080/",
          "height": 51
        },
        "outputId": "8f4f491d-3269-4a4a-8781-b40b716b896e"
      },
      "source": [
        "svc_scores = cross_val_score(clf, X_train, y_train, cv=kfold, scoring=scoring)\n",
        "print(\"Mean : {0:.4f}\".format(svc_scores.mean()))\n",
        "print(\"Standard Deviation : {0:.4f}\".format(svc_scores.std()))"
      ],
      "execution_count": null,
      "outputs": [
        {
          "output_type": "stream",
          "text": [
            "Mean : 0.4157\n",
            "Standard Deviation : 0.1406\n"
          ],
          "name": "stdout"
        }
      ]
    },
    {
      "cell_type": "markdown",
      "metadata": {
        "id": "hYjsmP56ddIv"
      },
      "source": [
        "## **Decision Tree**"
      ]
    },
    {
      "cell_type": "code",
      "metadata": {
        "id": "B8A08D60fxM9",
        "colab": {
          "base_uri": "https://localhost:8080/",
          "height": 51
        },
        "outputId": "3ee45337-24e4-4ecb-b3ce-4292909cbe58"
      },
      "source": [
        "from sklearn.tree import DecisionTreeClassifier\n",
        "clf = DecisionTreeClassifier()\n",
        "clf.fit(X_train, y_train)\n",
        "y_pred = clf.predict(X_test)\n",
        "print(y_test)\n",
        "print(y_pred)"
      ],
      "execution_count": null,
      "outputs": [
        {
          "output_type": "stream",
          "text": [
            "[0 0 2 0 1 0 1 2 1 2 0 2 0 1 0 1 1 1 0 1 0 1 1 2 2 2 1 1 1 0 0 1 2 0 0 0]\n",
            "[0 0 2 0 1 0 1 2 1 2 1 1 0 1 0 1 1 1 0 1 0 1 1 2 2 2 1 1 1 0 0 1 2 0 0 0]\n"
          ],
          "name": "stdout"
        }
      ]
    },
    {
      "cell_type": "code",
      "metadata": {
        "id": "rNaZkEyxgDxM",
        "colab": {
          "base_uri": "https://localhost:8080/",
          "height": 34
        },
        "outputId": "8a38f720-1e16-41fe-eef3-d633c0479aff"
      },
      "source": [
        "accuracy_score(y_test,y_pred)"
      ],
      "execution_count": null,
      "outputs": [
        {
          "output_type": "execute_result",
          "data": {
            "text/plain": [
              "0.9444444444444444"
            ]
          },
          "metadata": {
            "tags": []
          },
          "execution_count": 214
        }
      ]
    },
    {
      "cell_type": "code",
      "metadata": {
        "id": "qI5iBVLvgLzw",
        "colab": {
          "base_uri": "https://localhost:8080/",
          "height": 51
        },
        "outputId": "d98b77f4-e8b4-4eab-dd96-d3e23b1d8202"
      },
      "source": [
        "svc_scores = cross_val_score(clf, X_train, y_train, cv=kfold, scoring=scoring)\n",
        "print(\"Mean : {0:.4f}\".format(svc_scores.mean()))\n",
        "print(\"Standard Deviation : {0:.4f}\".format(svc_scores.std()))"
      ],
      "execution_count": null,
      "outputs": [
        {
          "output_type": "stream",
          "text": [
            "Mean : 0.9214\n",
            "Standard Deviation : 0.0929\n"
          ],
          "name": "stdout"
        }
      ]
    },
    {
      "cell_type": "markdown",
      "metadata": {
        "id": "9LOb4HLFgbJn"
      },
      "source": [
        "## **K-Nearest Neighbour**"
      ]
    },
    {
      "cell_type": "code",
      "metadata": {
        "id": "4qPidA6Fgy-c",
        "colab": {
          "base_uri": "https://localhost:8080/",
          "height": 51
        },
        "outputId": "78efb3b2-5e84-4e56-ee18-6c58e4a6f461"
      },
      "source": [
        "from sklearn.neighbors import KNeighborsClassifier\n",
        "clf = KNeighborsClassifier(n_neighbors=3)\n",
        "clf.fit(X_train, y_train)\n",
        "y_pred = clf.predict(X_test)\n",
        "print(y_test)\n",
        "print(y_pred)"
      ],
      "execution_count": null,
      "outputs": [
        {
          "output_type": "stream",
          "text": [
            "[0 0 2 0 1 0 1 2 1 2 0 2 0 1 0 1 1 1 0 1 0 1 1 2 2 2 1 1 1 0 0 1 2 0 0 0]\n",
            "[2 0 2 0 1 0 1 2 0 0 2 2 0 1 0 1 1 1 0 1 0 1 2 2 1 2 1 2 1 0 0 1 2 0 0 0]\n"
          ],
          "name": "stdout"
        }
      ]
    },
    {
      "cell_type": "code",
      "metadata": {
        "id": "ZldaVQqBhChf",
        "colab": {
          "base_uri": "https://localhost:8080/",
          "height": 34
        },
        "outputId": "774171e4-0e54-47c2-ee6f-e83e66eb68b0"
      },
      "source": [
        "accuracy_score(y_test,y_pred)"
      ],
      "execution_count": null,
      "outputs": [
        {
          "output_type": "execute_result",
          "data": {
            "text/plain": [
              "0.8055555555555556"
            ]
          },
          "metadata": {
            "tags": []
          },
          "execution_count": 164
        }
      ]
    },
    {
      "cell_type": "code",
      "metadata": {
        "id": "1rMDRg-9hGDh",
        "colab": {
          "base_uri": "https://localhost:8080/",
          "height": 51
        },
        "outputId": "1185d0ba-4b80-4c42-b8f1-c8bc37d18d01"
      },
      "source": [
        "svc_scores = cross_val_score(clf, X_train, y_train, cv=kfold, scoring=scoring)\n",
        "print(\"Mean : {0:.4f}\".format(svc_scores.mean()))\n",
        "print(\"Standard Deviation : {0:.4f}\".format(svc_scores.std()))"
      ],
      "execution_count": null,
      "outputs": [
        {
          "output_type": "stream",
          "text": [
            "Mean : 0.6624\n",
            "Standard Deviation : 0.1028\n"
          ],
          "name": "stdout"
        }
      ]
    },
    {
      "cell_type": "code",
      "metadata": {
        "id": "zUCSHp50hH1L"
      },
      "source": [
        ""
      ],
      "execution_count": null,
      "outputs": []
    },
    {
      "cell_type": "markdown",
      "metadata": {
        "id": "zFlwg6y2lBSf"
      },
      "source": [
        "## **Random Forest**"
      ]
    },
    {
      "cell_type": "code",
      "metadata": {
        "id": "ligyc3pnlI6s",
        "colab": {
          "base_uri": "https://localhost:8080/",
          "height": 51
        },
        "outputId": "52e31edf-a746-4a3e-c813-6a61482639e3"
      },
      "source": [
        "from sklearn.ensemble import RandomForestClassifier\n",
        "clf = RandomForestClassifier(n_estimators=7)\n",
        "clf.fit(X_train, y_train)\n",
        "y_pred = clf.predict(X_test)\n",
        "print(y_test)\n",
        "print(y_pred)"
      ],
      "execution_count": null,
      "outputs": [
        {
          "output_type": "stream",
          "text": [
            "[0 0 2 0 1 0 1 2 1 2 0 2 0 1 0 1 1 1 0 1 0 1 1 2 2 2 1 1 1 0 0 1 2 0 0 0]\n",
            "[0 0 2 0 1 0 1 2 1 2 0 1 0 1 0 1 1 1 0 1 0 1 1 2 2 2 1 1 1 0 0 1 2 0 0 0]\n"
          ],
          "name": "stdout"
        }
      ]
    },
    {
      "cell_type": "code",
      "metadata": {
        "id": "fgfIva59lXdw",
        "colab": {
          "base_uri": "https://localhost:8080/",
          "height": 34
        },
        "outputId": "f2099344-437d-4217-9667-1cfec20127a7"
      },
      "source": [
        "accuracy_score(y_test,y_pred)"
      ],
      "execution_count": null,
      "outputs": [
        {
          "output_type": "execute_result",
          "data": {
            "text/plain": [
              "0.9722222222222222"
            ]
          },
          "metadata": {
            "tags": []
          },
          "execution_count": 174
        }
      ]
    },
    {
      "cell_type": "code",
      "metadata": {
        "id": "FMsXuH_-lZXW",
        "colab": {
          "base_uri": "https://localhost:8080/",
          "height": 51
        },
        "outputId": "1a53cf8d-c450-460c-8902-8165eda537f5"
      },
      "source": [
        "svc_scores = cross_val_score(clf, X_train, y_train, cv=kfold, scoring=scoring)\n",
        "print(\"Mean : {0:.4f}\".format(svc_scores.mean()))\n",
        "print(\"Standard Deviation : {0:.4f}\".format(svc_scores.std()))"
      ],
      "execution_count": null,
      "outputs": [
        {
          "output_type": "stream",
          "text": [
            "Mean : 0.9505\n",
            "Standard Deviation : 0.0455\n"
          ],
          "name": "stdout"
        }
      ]
    },
    {
      "cell_type": "markdown",
      "metadata": {
        "id": "ppxu2_ERmQB-"
      },
      "source": [
        "## **Naive Bayes**"
      ]
    },
    {
      "cell_type": "code",
      "metadata": {
        "id": "HiZ0YzlamXrh",
        "colab": {
          "base_uri": "https://localhost:8080/",
          "height": 51
        },
        "outputId": "56e3ce5c-9294-4fda-ffc3-b33268f61632"
      },
      "source": [
        "from sklearn.naive_bayes import GaussianNB\n",
        "clf = GaussianNB()\n",
        "clf.fit(X_train, y_train)\n",
        "y_pred = clf.predict(X_test)\n",
        "print(y_test)\n",
        "print(y_pred)"
      ],
      "execution_count": null,
      "outputs": [
        {
          "output_type": "stream",
          "text": [
            "[0 0 2 0 1 0 1 2 1 2 0 2 0 1 0 1 1 1 0 1 0 1 1 2 2 2 1 1 1 0 0 1 2 0 0 0]\n",
            "[0 0 2 0 1 0 1 2 1 2 0 2 0 1 0 1 1 1 0 1 0 1 1 2 2 2 1 1 1 0 0 1 2 0 0 0]\n"
          ],
          "name": "stdout"
        }
      ]
    },
    {
      "cell_type": "code",
      "metadata": {
        "id": "JhNniNKtmjhk",
        "colab": {
          "base_uri": "https://localhost:8080/",
          "height": 34
        },
        "outputId": "b510fde5-5f13-4291-aa4f-67cd74cbb61d"
      },
      "source": [
        "accuracy_score(y_test,y_pred)"
      ],
      "execution_count": null,
      "outputs": [
        {
          "output_type": "execute_result",
          "data": {
            "text/plain": [
              "1.0"
            ]
          },
          "metadata": {
            "tags": []
          },
          "execution_count": 180
        }
      ]
    },
    {
      "cell_type": "code",
      "metadata": {
        "id": "Z1T9Cr8-mk_3",
        "colab": {
          "base_uri": "https://localhost:8080/",
          "height": 51
        },
        "outputId": "81fdb5f9-1a4c-4e01-81d7-8dc4e55e1d19"
      },
      "source": [
        "svc_scores = cross_val_score(clf, X_train, y_train, cv=kfold, scoring=scoring)\n",
        "print(\"Mean : {0:.4f}\".format(svc_scores.mean()))\n",
        "print(\"Standard Deviation : {0:.4f}\".format(svc_scores.std()))"
      ],
      "execution_count": null,
      "outputs": [
        {
          "output_type": "stream",
          "text": [
            "Mean : 0.9643\n",
            "Standard Deviation : 0.0659\n"
          ],
          "name": "stdout"
        }
      ]
    },
    {
      "cell_type": "markdown",
      "metadata": {
        "id": "qqnHtDkHnrRp"
      },
      "source": [
        "## **AdaBoost**"
      ]
    },
    {
      "cell_type": "code",
      "metadata": {
        "id": "YoOxq5-Zny95",
        "colab": {
          "base_uri": "https://localhost:8080/",
          "height": 51
        },
        "outputId": "635cec86-71d2-4f9a-facc-a1a32f8cfd30"
      },
      "source": [
        "from sklearn.ensemble import AdaBoostClassifier\n",
        "clf = AdaBoostClassifier()\n",
        "clf.fit(X_train, y_train)\n",
        "y_pred = clf.predict(X_test)\n",
        "print(y_test)\n",
        "print(y_pred)"
      ],
      "execution_count": null,
      "outputs": [
        {
          "output_type": "stream",
          "text": [
            "[0 0 2 0 1 0 1 2 1 2 0 2 0 1 0 1 1 1 0 1 0 1 1 2 2 2 1 1 1 0 0 1 2 0 0 0]\n",
            "[1 0 2 0 1 0 1 2 1 2 1 1 0 1 0 1 1 1 0 1 0 1 1 2 2 2 1 1 1 0 0 1 2 0 0 0]\n"
          ],
          "name": "stdout"
        }
      ]
    },
    {
      "cell_type": "code",
      "metadata": {
        "id": "bMtBKScen9IU",
        "colab": {
          "base_uri": "https://localhost:8080/",
          "height": 34
        },
        "outputId": "bd775ba1-10e9-475c-c37a-a51f6a29f271"
      },
      "source": [
        "accuracy_score(y_test,y_pred)"
      ],
      "execution_count": null,
      "outputs": [
        {
          "output_type": "execute_result",
          "data": {
            "text/plain": [
              "0.9166666666666666"
            ]
          },
          "metadata": {
            "tags": []
          },
          "execution_count": 233
        }
      ]
    },
    {
      "cell_type": "code",
      "metadata": {
        "id": "jlwe1v8Fn-YE",
        "colab": {
          "base_uri": "https://localhost:8080/",
          "height": 51
        },
        "outputId": "fac5967b-9b71-4296-c2e7-e1aac6de1c17"
      },
      "source": [
        "svc_scores = cross_val_score(clf, X_train, y_train, cv=kfold, scoring=scoring)\n",
        "print(\"Mean : {0:.4f}\".format(svc_scores.mean()))\n",
        "print(\"Standard Deviation : {0:.4f}\".format(svc_scores.std()))"
      ],
      "execution_count": null,
      "outputs": [
        {
          "output_type": "stream",
          "text": [
            "Mean : 0.9229\n",
            "Standard Deviation : 0.0666\n"
          ],
          "name": "stdout"
        }
      ]
    },
    {
      "cell_type": "markdown",
      "metadata": {
        "id": "zgihuxu7oKUf"
      },
      "source": [
        "## **Gradient Boosting**"
      ]
    },
    {
      "cell_type": "code",
      "metadata": {
        "id": "gAbdKvPtoO9J",
        "colab": {
          "base_uri": "https://localhost:8080/",
          "height": 51
        },
        "outputId": "c4e3f624-3847-4e1f-a335-ab2a0c45c89d"
      },
      "source": [
        "from sklearn.ensemble import GradientBoostingClassifier\n",
        "clf = GradientBoostingClassifier()\n",
        "clf.fit(X_train, y_train)\n",
        "y_pred = clf.predict(X_test)\n",
        "print(y_test)\n",
        "print(y_pred)"
      ],
      "execution_count": null,
      "outputs": [
        {
          "output_type": "stream",
          "text": [
            "[0 0 2 0 1 0 1 2 1 2 0 2 0 1 0 1 1 1 0 1 0 1 1 2 2 2 1 1 1 0 0 1 2 0 0 0]\n",
            "[0 0 2 0 1 0 1 2 1 2 0 1 0 1 0 1 1 1 0 1 0 1 1 2 2 2 1 0 1 0 0 1 2 0 0 0]\n"
          ],
          "name": "stdout"
        }
      ]
    },
    {
      "cell_type": "code",
      "metadata": {
        "id": "zbFmrfqPoY4R",
        "colab": {
          "base_uri": "https://localhost:8080/",
          "height": 34
        },
        "outputId": "9b8a896b-1e0f-49e1-c001-3dfa18daec34"
      },
      "source": [
        "accuracy_score(y_test,y_pred)"
      ],
      "execution_count": null,
      "outputs": [
        {
          "output_type": "execute_result",
          "data": {
            "text/plain": [
              "0.9444444444444444"
            ]
          },
          "metadata": {
            "tags": []
          },
          "execution_count": 230
        }
      ]
    },
    {
      "cell_type": "code",
      "metadata": {
        "id": "-d0bK9SMoaY2",
        "colab": {
          "base_uri": "https://localhost:8080/",
          "height": 51
        },
        "outputId": "4929c289-464f-43e7-cf03-b69823c343ef"
      },
      "source": [
        "svc_scores = cross_val_score(clf, X_train, y_train, cv=kfold, scoring=scoring)\n",
        "print(\"Mean : {0:.4f}\".format(svc_scores.mean()))\n",
        "print(\"Standard Deviation : {0:.4f}\".format(svc_scores.std()))"
      ],
      "execution_count": null,
      "outputs": [
        {
          "output_type": "stream",
          "text": [
            "Mean : 0.9505\n",
            "Standard Deviation : 0.0641\n"
          ],
          "name": "stdout"
        }
      ]
    },
    {
      "cell_type": "markdown",
      "metadata": {
        "id": "l372khyOomvH"
      },
      "source": [
        "## **XGBoost**"
      ]
    },
    {
      "cell_type": "code",
      "metadata": {
        "id": "nJW_EoUEorlg",
        "colab": {
          "base_uri": "https://localhost:8080/",
          "height": 51
        },
        "outputId": "9f21194d-5ffc-414e-bacc-4fa964fc4a81"
      },
      "source": [
        "from xgboost import XGBClassifier\n",
        "clf = XGBClassifier()\n",
        "clf.fit(X_train, y_train)\n",
        "y_pred = clf.predict(X_test)\n",
        "print(y_test)\n",
        "print(y_pred)"
      ],
      "execution_count": null,
      "outputs": [
        {
          "output_type": "stream",
          "text": [
            "[0 0 2 0 1 0 1 2 1 2 0 2 0 1 0 1 1 1 0 1 0 1 1 2 2 2 1 1 1 0 0 1 2 0 0 0]\n",
            "[0 0 2 0 1 0 1 2 1 2 0 1 0 1 0 1 1 1 0 1 0 1 1 2 2 2 1 1 1 0 0 1 2 0 0 0]\n"
          ],
          "name": "stdout"
        }
      ]
    },
    {
      "cell_type": "code",
      "metadata": {
        "id": "C4A8AeLfo0qr",
        "colab": {
          "base_uri": "https://localhost:8080/",
          "height": 34
        },
        "outputId": "5e169e15-d7ad-45b3-c9f8-a5bec1fc481c"
      },
      "source": [
        "accuracy_score(y_test,y_pred)"
      ],
      "execution_count": null,
      "outputs": [
        {
          "output_type": "execute_result",
          "data": {
            "text/plain": [
              "0.9722222222222222"
            ]
          },
          "metadata": {
            "tags": []
          },
          "execution_count": 227
        }
      ]
    },
    {
      "cell_type": "code",
      "metadata": {
        "id": "zLhl5BtCo2V1",
        "colab": {
          "base_uri": "https://localhost:8080/",
          "height": 51
        },
        "outputId": "e1aae038-f021-4b12-99c3-135c5102135e"
      },
      "source": [
        "svc_scores = cross_val_score(clf, X_train, y_train, cv=kfold, scoring=scoring)\n",
        "print(\"Mean : {0:.4f}\".format(svc_scores.mean()))\n",
        "print(\"Standard Deviation : {0:.4f}\".format(svc_scores.std()))"
      ],
      "execution_count": null,
      "outputs": [
        {
          "output_type": "stream",
          "text": [
            "Mean : 0.9505\n",
            "Standard Deviation : 0.0641\n"
          ],
          "name": "stdout"
        }
      ]
    },
    {
      "cell_type": "markdown",
      "metadata": {
        "id": "j7Rg3TGkloto"
      },
      "source": [
        "## **Logistic Regression**"
      ]
    },
    {
      "cell_type": "code",
      "metadata": {
        "id": "3-moVnq3lrYS",
        "colab": {
          "base_uri": "https://localhost:8080/",
          "height": 51
        },
        "outputId": "3bbf8365-a428-4f91-c28d-1c96afec3ffb"
      },
      "source": [
        "from sklearn.linear_model import LogisticRegression\n",
        "clf = LogisticRegression()\n",
        "clf.fit(X_train, y_train)\n",
        "y_pred = clf.predict(X_test)\n",
        "print(y_test)\n",
        "print(y_pred)"
      ],
      "execution_count": null,
      "outputs": [
        {
          "output_type": "stream",
          "text": [
            "[0 0 2 0 1 0 1 2 1 2 0 2 0 1 0 1 1 1 0 1 0 1 1 2 2 2 1 1 1 0 0 1 2 0 0 0]\n",
            "[0 0 2 0 1 0 1 2 1 2 1 2 0 1 0 1 1 1 0 1 0 1 1 2 2 2 1 1 1 0 0 1 2 0 0 0]\n"
          ],
          "name": "stdout"
        }
      ]
    },
    {
      "cell_type": "code",
      "metadata": {
        "id": "vk9VEUrMl3DT",
        "colab": {
          "base_uri": "https://localhost:8080/",
          "height": 34
        },
        "outputId": "866390df-3b03-4ff7-d189-4e8f9e47ab25"
      },
      "source": [
        "accuracy_score(y_test,y_pred)"
      ],
      "execution_count": null,
      "outputs": [
        {
          "output_type": "execute_result",
          "data": {
            "text/plain": [
              "0.9722222222222222"
            ]
          },
          "metadata": {
            "tags": []
          },
          "execution_count": 177
        }
      ]
    },
    {
      "cell_type": "code",
      "metadata": {
        "id": "S9Cx3ljXl4kc",
        "colab": {
          "base_uri": "https://localhost:8080/",
          "height": 51
        },
        "outputId": "c55db696-6d81-4d4d-8e0c-1d0822307af1"
      },
      "source": [
        "svc_scores = cross_val_score(clf, X_train, y_train, cv=kfold, scoring=scoring)\n",
        "print(\"Mean : {0:.4f}\".format(svc_scores.mean()))\n",
        "print(\"Standard Deviation : {0:.4f}\".format(svc_scores.std()))"
      ],
      "execution_count": null,
      "outputs": [
        {
          "output_type": "stream",
          "text": [
            "Mean : 0.9500\n",
            "Standard Deviation : 0.0457\n"
          ],
          "name": "stdout"
        }
      ]
    },
    {
      "cell_type": "markdown",
      "metadata": {
        "id": "ahPbJATRrV0H"
      },
      "source": [
        "## **Comparing Classification Models**"
      ]
    },
    {
      "cell_type": "code",
      "metadata": {
        "id": "2hM_MUDFpIcp"
      },
      "source": [
        "models = []\n",
        "\n",
        "models.append((\"Support Vector Machine (linear):\",SVC(kernel=\"linear\")))\n",
        "models.append((\"Support Vector Machine (rbf):\",SVC(kernel=\"rbf\")))\n",
        "models.append((\"Decision Tree:\",DecisionTreeClassifier()))\n",
        "models.append((\"K-Nearest Neighbour:\",KNeighborsClassifier(n_neighbors=3)))\n",
        "models.append((\"Random Forest:\",RandomForestClassifier(n_estimators=7)))\n",
        "models.append((\"Naive Bayes:\",GaussianNB()))\n",
        "models.append((\"AdaBoost:\",AdaBoostClassifier()))\n",
        "models.append((\"Gradient Boosting:\",GradientBoostingClassifier()))\n",
        "models.append((\"XG Boost:\",XGBClassifier()))"
      ],
      "execution_count": null,
      "outputs": []
    },
    {
      "cell_type": "code",
      "metadata": {
        "id": "KcHxbot8uLor",
        "colab": {
          "base_uri": "https://localhost:8080/",
          "height": 629
        },
        "outputId": "ef1afe18-72d3-4152-9da8-da0ebbb5e43e"
      },
      "source": [
        "results = []\n",
        "names = []\n",
        "for name,model in models:\n",
        "    kfold = KFold(n_splits=10, random_state=0)\n",
        "    svc_scores = cross_val_score(model, X_train, y_train, cv=kfold, scoring=scoring)\n",
        "    names.append(name)\n",
        "    results.append(svc_scores)\n",
        "for i in range(len(names)):\n",
        "    print(names[i])\n",
        "    print(\"Average:\",results[i].mean()*100)\n",
        "    print(\"Standard Deviation:\",results[i].std())\n",
        "    print();"
      ],
      "execution_count": null,
      "outputs": [
        {
          "output_type": "stream",
          "text": [
            "Support Vector Machine (linear):\n",
            "Average: 94.33333333333334\n",
            "Standard Deviation: 0.05334396152604827\n",
            "\n",
            "Support Vector Machine (rbf):\n",
            "Average: 41.57142857142856\n",
            "Standard Deviation: 0.14058591356523073\n",
            "\n",
            "Decision Tree:\n",
            "Average: 92.90476190476191\n",
            "Standard Deviation: 0.09036208343353412\n",
            "\n",
            "K-Nearest Neighbour:\n",
            "Average: 66.23809523809524\n",
            "Standard Deviation: 0.10282737664530346\n",
            "\n",
            "Random Forest:\n",
            "Average: 94.3809523809524\n",
            "Standard Deviation: 0.05198115828188644\n",
            "\n",
            "Naive Bayes:\n",
            "Average: 96.42857142857142\n",
            "Standard Deviation: 0.06585388898066348\n",
            "\n",
            "AdaBoost:\n",
            "Average: 92.28571428571429\n",
            "Standard Deviation: 0.06659179469109844\n",
            "\n",
            "Gradient Boosting:\n",
            "Average: 95.04761904761905\n",
            "Standard Deviation: 0.06414269805898187\n",
            "\n",
            "XG Boost:\n",
            "Average: 95.04761904761905\n",
            "Standard Deviation: 0.06414269805898187\n",
            "\n"
          ],
          "name": "stdout"
        }
      ]
    },
    {
      "cell_type": "markdown",
      "metadata": {
        "id": "Cb2SkitP1gDb"
      },
      "source": [
        "# **Clustering Work**"
      ]
    },
    {
      "cell_type": "code",
      "metadata": {
        "id": "sL2S13dy61uF",
        "colab": {
          "base_uri": "https://localhost:8080/",
          "height": 170
        },
        "outputId": "b1684060-4d3a-4a69-b01a-78f6f0903b0d"
      },
      "source": [
        "X = wine.data\n",
        "y = wine.target\n",
        "y"
      ],
      "execution_count": null,
      "outputs": [
        {
          "output_type": "execute_result",
          "data": {
            "text/plain": [
              "array([0, 0, 0, 0, 0, 0, 0, 0, 0, 0, 0, 0, 0, 0, 0, 0, 0, 0, 0, 0, 0, 0,\n",
              "       0, 0, 0, 0, 0, 0, 0, 0, 0, 0, 0, 0, 0, 0, 0, 0, 0, 0, 0, 0, 0, 0,\n",
              "       0, 0, 0, 0, 0, 0, 0, 0, 0, 0, 0, 0, 0, 0, 0, 1, 1, 1, 1, 1, 1, 1,\n",
              "       1, 1, 1, 1, 1, 1, 1, 1, 1, 1, 1, 1, 1, 1, 1, 1, 1, 1, 1, 1, 1, 1,\n",
              "       1, 1, 1, 1, 1, 1, 1, 1, 1, 1, 1, 1, 1, 1, 1, 1, 1, 1, 1, 1, 1, 1,\n",
              "       1, 1, 1, 1, 1, 1, 1, 1, 1, 1, 1, 1, 1, 1, 1, 1, 1, 1, 1, 1, 2, 2,\n",
              "       2, 2, 2, 2, 2, 2, 2, 2, 2, 2, 2, 2, 2, 2, 2, 2, 2, 2, 2, 2, 2, 2,\n",
              "       2, 2, 2, 2, 2, 2, 2, 2, 2, 2, 2, 2, 2, 2, 2, 2, 2, 2, 2, 2, 2, 2,\n",
              "       2, 2])"
            ]
          },
          "metadata": {
            "tags": []
          },
          "execution_count": 296
        }
      ]
    },
    {
      "cell_type": "markdown",
      "metadata": {
        "id": "W8Mr0b_c6Jcv"
      },
      "source": [
        "## **K-Means**"
      ]
    },
    {
      "cell_type": "code",
      "metadata": {
        "id": "Mj8pnm2134iY",
        "colab": {
          "base_uri": "https://localhost:8080/",
          "height": 102
        },
        "outputId": "a1f0ea9f-71bd-4c88-f0f1-315a951cd257"
      },
      "source": [
        "from sklearn.cluster import KMeans\n",
        "kmeans = KMeans(n_clusters=3, init = 'random', random_state = 42).fit(X)\n",
        "print(kmeans.labels_)"
      ],
      "execution_count": null,
      "outputs": [
        {
          "output_type": "stream",
          "text": [
            "[1 1 1 1 0 1 1 1 1 1 1 1 1 1 1 1 1 1 1 0 0 0 1 1 0 0 1 1 0 1 1 1 1 1 1 0 0\n",
            " 1 1 0 0 1 1 0 0 1 1 1 1 1 1 1 1 1 1 1 1 1 1 2 0 2 0 2 2 0 2 2 0 0 0 2 2 1\n",
            " 0 2 2 2 0 2 2 0 0 2 2 2 2 2 0 0 2 2 2 2 2 0 0 2 0 2 0 2 2 2 0 2 2 2 2 0 2\n",
            " 2 0 2 2 2 2 2 2 2 0 2 2 2 2 2 2 2 2 2 0 2 2 0 0 0 0 2 2 2 0 0 2 2 0 0 2 0\n",
            " 0 2 2 2 2 0 0 0 2 0 0 0 2 0 2 0 0 2 0 0 0 0 2 2 0 0 0 0 0 2]\n"
          ],
          "name": "stdout"
        }
      ]
    },
    {
      "cell_type": "markdown",
      "metadata": {
        "id": "Y7Tud2os6QAL"
      },
      "source": [
        "## **K-Means++**"
      ]
    },
    {
      "cell_type": "code",
      "metadata": {
        "id": "CFzFD21Q4EBB",
        "colab": {
          "base_uri": "https://localhost:8080/",
          "height": 102
        },
        "outputId": "11ed048c-801a-40d0-f966-83f4d056faf4"
      },
      "source": [
        "kmeans = KMeans(n_clusters=3, random_state = 42).fit(X)\n",
        "print(kmeans.labels_)"
      ],
      "execution_count": null,
      "outputs": [
        {
          "output_type": "stream",
          "text": [
            "[1 1 1 1 2 1 1 1 1 1 1 1 1 1 1 1 1 1 1 2 2 2 1 1 2 2 1 1 2 1 1 1 1 1 1 2 2\n",
            " 1 1 2 2 1 1 2 2 1 1 1 1 1 1 1 1 1 1 1 1 1 1 0 2 0 2 0 0 2 0 0 2 2 2 0 0 1\n",
            " 2 0 0 0 2 0 0 2 2 0 0 0 0 0 2 2 0 0 0 0 0 2 2 0 2 0 2 0 0 0 2 0 0 0 0 2 0\n",
            " 0 2 0 0 0 0 0 0 0 2 0 0 0 0 0 0 0 0 0 2 0 0 2 2 2 2 0 0 0 2 2 0 0 2 2 0 2\n",
            " 2 0 0 0 0 2 2 2 0 2 2 2 0 2 0 2 2 0 2 2 2 2 0 0 2 2 2 2 2 0]\n"
          ],
          "name": "stdout"
        }
      ]
    },
    {
      "cell_type": "markdown",
      "metadata": {
        "id": "-mIq7jCB6bCN"
      },
      "source": [
        "## **Mini Batch K-Means**"
      ]
    },
    {
      "cell_type": "code",
      "metadata": {
        "id": "opOSkop854oa",
        "colab": {
          "base_uri": "https://localhost:8080/",
          "height": 102
        },
        "outputId": "a966128c-f6df-4d83-833c-a87daf173c81"
      },
      "source": [
        "from sklearn.cluster import MiniBatchKMeans\n",
        "clusters = MiniBatchKMeans(n_clusters=3, init = 'random', random_state = 42).fit(X)\n",
        "print(clusters.labels_)"
      ],
      "execution_count": null,
      "outputs": [
        {
          "output_type": "stream",
          "text": [
            "[1 1 0 0 2 0 0 0 1 1 0 0 0 1 0 0 0 1 0 1 1 1 1 1 1 1 0 0 1 1 0 0 1 0 1 1 1\n",
            " 1 1 2 1 1 1 2 1 1 1 1 1 0 1 0 0 0 1 1 1 0 0 2 2 2 2 2 2 2 2 2 2 2 1 2 2 1\n",
            " 1 2 2 2 2 2 2 2 2 2 2 2 2 2 2 2 2 2 2 2 2 1 2 2 2 2 2 2 2 2 2 2 2 2 2 2 2\n",
            " 2 2 2 2 2 2 2 2 2 2 2 2 2 2 2 2 2 2 2 2 2 2 2 2 2 2 2 2 2 2 1 2 2 1 1 2 2\n",
            " 2 2 2 2 2 2 2 2 2 1 2 2 2 2 2 2 2 2 2 2 2 2 2 2 2 2 2 1 1 2]\n"
          ],
          "name": "stdout"
        }
      ]
    },
    {
      "cell_type": "markdown",
      "metadata": {
        "id": "ptVnyeMiApem"
      },
      "source": [
        "## **K-Modes**"
      ]
    },
    {
      "cell_type": "code",
      "metadata": {
        "id": "oNXVZziL8bnT",
        "colab": {
          "base_uri": "https://localhost:8080/",
          "height": 173
        },
        "outputId": "72798077-82f0-47ae-da7a-8d9ecb18b7c8"
      },
      "source": [
        "pip install kmodes"
      ],
      "execution_count": null,
      "outputs": [
        {
          "output_type": "stream",
          "text": [
            "Collecting kmodes\n",
            "  Downloading https://files.pythonhosted.org/packages/79/c0/f7d8a0eb41ac6f302b4bc100f91b6e0f2558425ccfefaa0ec0430f77ee97/kmodes-0.10.1-py2.py3-none-any.whl\n",
            "Requirement already satisfied: joblib>=0.11 in /usr/local/lib/python3.6/dist-packages (from kmodes) (0.14.1)\n",
            "Requirement already satisfied: scipy>=0.13.3 in /usr/local/lib/python3.6/dist-packages (from kmodes) (1.3.3)\n",
            "Requirement already satisfied: numpy>=1.10.4 in /usr/local/lib/python3.6/dist-packages (from kmodes) (1.17.4)\n",
            "Requirement already satisfied: scikit-learn>=0.19.0 in /usr/local/lib/python3.6/dist-packages (from kmodes) (0.21.3)\n",
            "Installing collected packages: kmodes\n",
            "Successfully installed kmodes-0.10.1\n"
          ],
          "name": "stdout"
        }
      ]
    },
    {
      "cell_type": "code",
      "metadata": {
        "id": "uv_MjiRX_jT9",
        "colab": {
          "base_uri": "https://localhost:8080/",
          "height": 578
        },
        "outputId": "1ad1c1fa-724c-499e-b738-1c86040d9848"
      },
      "source": [
        "import numpy as np\n",
        "from kmodes.kmodes import KModes\n",
        "\n",
        "km = KModes(n_clusters=3, init='Huang', n_init=5, verbose=1)\n",
        "clusters = km.fit_predict(X)\n",
        "\n",
        "print(km.labels_)"
      ],
      "execution_count": null,
      "outputs": [
        {
          "output_type": "stream",
          "text": [
            "Init: initializing centroids\n",
            "Init: initializing clusters\n",
            "Starting iterations...\n",
            "Run 1, iteration: 1/100, moves: 17, cost: 2130.0\n",
            "Run 1, iteration: 2/100, moves: 1, cost: 2130.0\n",
            "Init: initializing centroids\n",
            "Init: initializing clusters\n",
            "Starting iterations...\n",
            "Run 2, iteration: 1/100, moves: 20, cost: 2118.0\n",
            "Run 2, iteration: 2/100, moves: 1, cost: 2116.0\n",
            "Run 2, iteration: 3/100, moves: 1, cost: 2116.0\n",
            "Init: initializing centroids\n",
            "Init: initializing clusters\n",
            "Starting iterations...\n",
            "Run 3, iteration: 1/100, moves: 16, cost: 2131.0\n",
            "Run 3, iteration: 2/100, moves: 0, cost: 2131.0\n",
            "Init: initializing centroids\n",
            "Init: initializing clusters\n",
            "Starting iterations...\n",
            "Run 4, iteration: 1/100, moves: 26, cost: 2128.0\n",
            "Run 4, iteration: 2/100, moves: 5, cost: 2127.0\n",
            "Run 4, iteration: 3/100, moves: 0, cost: 2127.0\n",
            "Init: initializing centroids\n",
            "Init: initializing clusters\n",
            "Starting iterations...\n",
            "Run 5, iteration: 1/100, moves: 18, cost: 2130.0\n",
            "Run 5, iteration: 2/100, moves: 0, cost: 2130.0\n",
            "Best run was number 2\n",
            "[0 0 1 0 0 0 0 0 1 0 0 0 0 0 1 1 0 0 0 0 1 0 1 0 0 1 0 1 0 0 1 0 0 1 0 0 0\n",
            " 1 1 1 0 1 1 1 1 0 0 1 0 0 0 0 0 1 0 0 0 1 0 2 1 0 0 0 0 0 0 2 0 0 0 0 0 0\n",
            " 1 0 0 0 0 1 0 0 0 1 0 0 0 2 1 0 0 0 0 2 1 2 0 1 2 2 0 1 2 0 0 0 0 1 0 1 0\n",
            " 2 0 2 0 0 0 1 0 0 0 0 0 0 2 0 0 0 2 2 0 0 1 2 0 2 2 0 1 1 1 0 2 0 1 2 0 0\n",
            " 0 0 0 0 0 2 0 0 2 0 1 1 2 0 0 2 0 2 2 2 0 0 0 0 0 0 0 0 0 1]\n"
          ],
          "name": "stdout"
        }
      ]
    },
    {
      "cell_type": "markdown",
      "metadata": {
        "id": "8GQvuYYVBmbR"
      },
      "source": [
        "## **Agglomerative Hierarchical Clustering**"
      ]
    },
    {
      "cell_type": "code",
      "metadata": {
        "id": "JMiFjGi6BPC2",
        "colab": {
          "base_uri": "https://localhost:8080/",
          "height": 85
        },
        "outputId": "2c21790d-3862-4341-c193-4c35f671a7e6"
      },
      "source": [
        "from sklearn.cluster import AgglomerativeClustering\n",
        "clustering = AgglomerativeClustering(n_clusters=3).fit(X)\n",
        "clustering"
      ],
      "execution_count": null,
      "outputs": [
        {
          "output_type": "execute_result",
          "data": {
            "text/plain": [
              "AgglomerativeClustering(affinity='euclidean', compute_full_tree='auto',\n",
              "                        connectivity=None, distance_threshold=None,\n",
              "                        linkage='ward', memory=None, n_clusters=3,\n",
              "                        pooling_func='deprecated')"
            ]
          },
          "metadata": {
            "tags": []
          },
          "execution_count": 273
        }
      ]
    },
    {
      "cell_type": "markdown",
      "metadata": {
        "id": "t6bL4fYJDEsY"
      },
      "source": [
        "## **Nearest Neighbours**"
      ]
    },
    {
      "cell_type": "code",
      "metadata": {
        "id": "bjLT07-WBxMP",
        "colab": {
          "base_uri": "https://localhost:8080/",
          "height": 170
        },
        "outputId": "69f265f7-b676-416e-e33b-0546cbabc5c7"
      },
      "source": [
        "clustering.labels_"
      ],
      "execution_count": null,
      "outputs": [
        {
          "output_type": "execute_result",
          "data": {
            "text/plain": [
              "array([0, 0, 0, 0, 2, 0, 0, 0, 0, 0, 0, 0, 0, 0, 0, 0, 0, 0, 0, 2, 2, 2,\n",
              "       0, 0, 2, 2, 0, 0, 2, 0, 0, 0, 0, 0, 0, 2, 2, 0, 0, 2, 2, 0, 0, 2,\n",
              "       2, 0, 0, 0, 0, 0, 0, 0, 0, 0, 0, 0, 0, 0, 0, 1, 2, 1, 2, 1, 1, 2,\n",
              "       1, 1, 2, 2, 2, 1, 1, 0, 2, 1, 1, 1, 2, 1, 1, 2, 2, 1, 1, 1, 1, 1,\n",
              "       2, 2, 1, 1, 1, 1, 1, 0, 2, 1, 2, 1, 2, 1, 1, 1, 2, 1, 1, 1, 1, 2,\n",
              "       1, 1, 1, 1, 1, 1, 1, 1, 1, 1, 2, 1, 1, 1, 1, 1, 1, 1, 1, 1, 2, 1,\n",
              "       1, 1, 2, 2, 2, 1, 1, 1, 1, 2, 1, 1, 2, 2, 1, 2, 2, 1, 1, 1, 1, 2,\n",
              "       2, 2, 1, 2, 2, 2, 1, 2, 1, 2, 2, 1, 2, 2, 2, 2, 1, 1, 2, 2, 2, 2,\n",
              "       2, 1])"
            ]
          },
          "metadata": {
            "tags": []
          },
          "execution_count": 274
        }
      ]
    },
    {
      "cell_type": "code",
      "metadata": {
        "id": "yVBJ5JRVB4OB"
      },
      "source": [
        "from sklearn.neighbors import NearestNeighbors\n",
        "nbrs = NearestNeighbors(n_neighbors=3, algorithm='ball_tree').fit(X)"
      ],
      "execution_count": null,
      "outputs": []
    },
    {
      "cell_type": "code",
      "metadata": {
        "id": "Gm7Z1bBtCrI9"
      },
      "source": [
        "distances, indices = nbrs.kneighbors(X)"
      ],
      "execution_count": null,
      "outputs": []
    },
    {
      "cell_type": "code",
      "metadata": {
        "id": "NtapK9xyCtGP",
        "colab": {
          "base_uri": "https://localhost:8080/",
          "height": 1000
        },
        "outputId": "19c9c50a-c34f-492f-f8f5-20cfccf40161"
      },
      "source": [
        "indices"
      ],
      "execution_count": null,
      "outputs": [
        {
          "output_type": "execute_result",
          "data": {
            "text/plain": [
              "array([[  0,  54,  45],\n",
              "       [  1,   8,   9],\n",
              "       [  2,  52,  26],\n",
              "       [  3,   5,  10],\n",
              "       [  4,  68, 168],\n",
              "       [  5,   3,  10],\n",
              "       [  6,  27,  11],\n",
              "       [  7,  16,  58],\n",
              "       [  8,   9,   1],\n",
              "       [  9,   8,   1],\n",
              "       [ 10,  31,   3],\n",
              "       [ 11,  27,  30],\n",
              "       [ 12,  15,   6],\n",
              "       [ 13,  50,  17],\n",
              "       [ 14,  31,  10],\n",
              "       [ 15,   7,  12],\n",
              "       [ 16,  58,   7],\n",
              "       [ 17,  55,  37],\n",
              "       [ 18,  14,  31],\n",
              "       [ 19, 176, 144],\n",
              "       [ 20,  40,  39],\n",
              "       [ 21, 141, 174],\n",
              "       [ 22,  29,   9],\n",
              "       [ 23,  38,  29],\n",
              "       [ 24, 145, 144],\n",
              "       [ 25, 175, 176],\n",
              "       [ 26,   2,  52],\n",
              "       [ 27,  11,   6],\n",
              "       [ 28,  35,  74],\n",
              "       [ 29,  22,  41],\n",
              "       [ 30,  58,  27],\n",
              "       [ 31,  10,  14],\n",
              "       [ 32,  47,  56],\n",
              "       [ 33,  49,  57],\n",
              "       [ 34,  42,  45],\n",
              "       [ 35,  28,  74],\n",
              "       [ 36,  44,  74],\n",
              "       [ 37,  42,  34],\n",
              "       [ 38,  23,  29],\n",
              "       [ 39,  78,  20],\n",
              "       [ 40,  20,  21],\n",
              "       [ 41,  29,  22],\n",
              "       [ 42,  34,  37],\n",
              "       [ 43,  60, 161],\n",
              "       [ 44,  36,  74],\n",
              "       [ 45,  34,  46],\n",
              "       [ 46,  48,   1],\n",
              "       [ 47,  32,  56],\n",
              "       [ 48,  46,   1],\n",
              "       [ 49,  57,  51],\n",
              "       [ 50,  13,  17],\n",
              "       [ 51,  57,  11],\n",
              "       [ 52,   2,  26],\n",
              "       [ 53,  12,  15],\n",
              "       [ 54,   0,  48],\n",
              "       [ 55,  17,  37],\n",
              "       [ 56,  47,  32],\n",
              "       [ 57,  51,  49],\n",
              "       [ 58,  30,   6],\n",
              "       [ 59,  84, 160],\n",
              "       [ 60,  43,  65],\n",
              "       [ 61,  85, 102],\n",
              "       [ 62, 120, 147],\n",
              "       [ 63, 103,  97],\n",
              "       [ 64, 117,  94],\n",
              "       [ 65,  60, 109],\n",
              "       [ 66,  67, 106],\n",
              "       [ 67, 106,  66],\n",
              "       [ 68, 168, 174],\n",
              "       [ 69,  78,   4],\n",
              "       [ 70,  36, 157],\n",
              "       [ 71, 115, 103],\n",
              "       [ 72, 171, 127],\n",
              "       [ 73,  56,  32],\n",
              "       [ 74,  44, 157],\n",
              "       [ 75, 102, 113],\n",
              "       [ 76, 114, 123],\n",
              "       [ 77, 150, 170],\n",
              "       [ 78,  39,   4],\n",
              "       [ 79, 127,  85],\n",
              "       [ 80,  93, 108],\n",
              "       [ 81, 136, 100],\n",
              "       [ 82,  89, 147],\n",
              "       [ 83, 165, 160],\n",
              "       [ 84, 142, 160],\n",
              "       [ 85,  61, 102],\n",
              "       [ 86, 116, 107],\n",
              "       [ 87, 101, 119],\n",
              "       [ 88, 104, 167],\n",
              "       [ 89,  82, 147],\n",
              "       [ 90, 107, 156],\n",
              "       [ 91,  85,  61],\n",
              "       [ 92, 116, 107],\n",
              "       [ 93,  80, 108],\n",
              "       [ 94, 117,  64],\n",
              "       [ 95,  73,  56],\n",
              "       [ 96, 130, 169],\n",
              "       [ 97, 113,  63],\n",
              "       [ 98, 172, 134],\n",
              "       [ 99, 115,  71],\n",
              "       [100,  81, 136],\n",
              "       [101, 119,  87],\n",
              "       [102, 113,  75],\n",
              "       [103,  63,  71],\n",
              "       [104,  88, 109],\n",
              "       [105, 108, 111],\n",
              "       [106,  67,  83],\n",
              "       [107, 116,  92],\n",
              "       [108, 105, 111],\n",
              "       [109,  65,  60],\n",
              "       [110, 162, 132],\n",
              "       [111, 105, 108],\n",
              "       [112, 133, 140],\n",
              "       [113,  97, 102],\n",
              "       [114, 124, 123],\n",
              "       [115,  99,  71],\n",
              "       [116,  86,  92],\n",
              "       [117,  94,  64],\n",
              "       [118, 125, 124],\n",
              "       [119, 101,  87],\n",
              "       [120,  62, 147],\n",
              "       [121, 151,  79],\n",
              "       [122,  64, 117],\n",
              "       [123, 125, 124],\n",
              "       [124, 125, 123],\n",
              "       [125, 123, 124],\n",
              "       [126, 128,  94],\n",
              "       [127,  72,  79],\n",
              "       [128, 126,  94],\n",
              "       [129, 138, 119],\n",
              "       [130, 169,  96],\n",
              "       [131, 142,  84],\n",
              "       [132, 177,  87],\n",
              "       [133, 112, 140],\n",
              "       [134, 148,  98],\n",
              "       [135, 167, 100],\n",
              "       [136, 155,  81],\n",
              "       [137, 142, 170],\n",
              "       [138, 129, 119],\n",
              "       [139, 133, 140],\n",
              "       [140, 133, 112],\n",
              "       [141,  21,  40],\n",
              "       [142, 137,  84],\n",
              "       [143, 177, 132],\n",
              "       [144,  19, 176],\n",
              "       [145,  24, 175],\n",
              "       [146, 103,  63],\n",
              "       [147, 159, 164],\n",
              "       [148, 134, 172],\n",
              "       [149, 110, 132],\n",
              "       [150,  77, 151],\n",
              "       [151, 121,  77],\n",
              "       [152,  75, 102],\n",
              "       [153,  65, 163],\n",
              "       [154,  62, 169],\n",
              "       [155, 136,  81],\n",
              "       [156, 171,  90],\n",
              "       [157,  74,  70],\n",
              "       [158, 172, 148],\n",
              "       [159, 164, 147],\n",
              "       [160, 165,  83],\n",
              "       [161, 163,  43],\n",
              "       [162, 110, 132],\n",
              "       [163, 161,  43],\n",
              "       [164, 159, 147],\n",
              "       [165, 160,  83],\n",
              "       [166, 161, 135],\n",
              "       [167,  88, 109],\n",
              "       [168, 174,  68],\n",
              "       [169, 130, 154],\n",
              "       [170, 137,  84],\n",
              "       [171,  72, 156],\n",
              "       [172,  98, 158],\n",
              "       [173, 174, 168],\n",
              "       [174, 168,  68],\n",
              "       [175, 176,  25],\n",
              "       [176, 175,  19],\n",
              "       [177, 132,  87]])"
            ]
          },
          "metadata": {
            "tags": []
          },
          "execution_count": 278
        }
      ]
    },
    {
      "cell_type": "code",
      "metadata": {
        "id": "tIVJfMhHCxSb",
        "colab": {
          "base_uri": "https://localhost:8080/",
          "height": 1000
        },
        "outputId": "bea8672d-5674-487d-be51-4f160902647b"
      },
      "source": [
        "distances"
      ],
      "execution_count": null,
      "outputs": [
        {
          "output_type": "execute_result",
          "data": {
            "text/plain": [
              "array([[  0.        ,  10.3928052 ,  22.34074753],\n",
              "       [  0.        ,   6.78638343,   7.83291772],\n",
              "       [  0.        ,  12.2969915 ,  13.16761937],\n",
              "       [  0.        ,  30.09196903,  31.15941752],\n",
              "       [  0.        ,  17.72868015,  20.77652521],\n",
              "       [  0.        ,  30.09196903,  60.48524365],\n",
              "       [  0.        ,   6.23935093,  10.34467496],\n",
              "       [  0.        ,  15.3305512 ,  16.63357147],\n",
              "       [  0.        ,   3.27007645,   6.78638343],\n",
              "       [  0.        ,   3.27007645,   7.83291772],\n",
              "       [  0.        ,   5.41997232,  31.15941752],\n",
              "       [  0.        ,   5.29867908,   9.81115691],\n",
              "       [  0.        ,  25.17260018,  30.8559427 ],\n",
              "       [  0.        ,   2.94961014,  32.46013709],\n",
              "       [  0.        ,  33.05906986,  37.65407017],\n",
              "       [  0.        ,  17.67303596,  25.17260018],\n",
              "       [  0.        ,  13.47668728,  15.3305512 ],\n",
              "       [  0.        ,  10.1335137 ,  30.42083661],\n",
              "       [  0.        , 133.22215582, 165.04597511],\n",
              "       [  0.        ,   9.59942186,  12.17651839],\n",
              "       [  0.        ,  17.51458535,  20.44215987],\n",
              "       [  0.        ,  16.7830897 ,  20.85419382],\n",
              "       [  0.        ,   5.18481437,  11.03619047],\n",
              "       [  0.        ,   6.3684535 ,  20.16455554],\n",
              "       [  0.        ,  16.612098  ,  19.8679843 ],\n",
              "       [  0.        ,  11.14076748,  13.51664899],\n",
              "       [  0.        ,  13.16761937,  18.98908107],\n",
              "       [  0.        ,   5.29867908,   6.23935093],\n",
              "       [  0.        ,   8.7187155 ,  29.78023338],\n",
              "       [  0.        ,   5.18481437,   7.05973087],\n",
              "       [  0.        ,   9.19089767,   9.24320291],\n",
              "       [  0.        ,   5.41997232,  33.05906986],\n",
              "       [  0.        ,   6.48193644,  24.58831226],\n",
              "       [  0.        ,  34.91639157,  46.18980082],\n",
              "       [  0.        ,  10.05469542,  15.27273387],\n",
              "       [  0.        ,   8.7187155 ,  34.13224429],\n",
              "       [  0.        ,   6.17615576,  12.35634655],\n",
              "       [  0.        ,  11.1040308 ,  15.66545882],\n",
              "       [  0.        ,   6.3684535 ,  15.24984262],\n",
              "       [  0.        ,  13.67347798,  20.44215987],\n",
              "       [  0.        ,  17.51458535,  29.4071964 ],\n",
              "       [  0.        ,   7.05973087,  11.45810194],\n",
              "       [  0.        ,  10.05469542,  11.1040308 ],\n",
              "       [  0.        ,   4.7846421 ,   5.69814005],\n",
              "       [  0.        ,   6.17615576,   7.69095573],\n",
              "       [  0.        ,  15.27273387,  17.78028402],\n",
              "       [  0.        ,   6.23825296,  16.07347193],\n",
              "       [  0.        ,   6.48193644,  22.68218684],\n",
              "       [  0.        ,   6.23825296,  13.14076482],\n",
              "       [  0.        ,  12.07374424,  15.2540552 ],\n",
              "       [  0.        ,   2.94961014,  31.46021138],\n",
              "       [  0.        ,   9.52865678,  15.09685066],\n",
              "       [  0.        ,  12.2969915 ,  18.98908107],\n",
              "       [  0.        ,  60.85220867,  65.07808003],\n",
              "       [  0.        ,  10.3928052 ,  15.23137223],\n",
              "       [  0.        ,  10.1335137 ,  23.69019628],\n",
              "       [  0.        ,  22.68218684,  24.58831226],\n",
              "       [  0.        ,   9.52865678,  12.07374424],\n",
              "       [  0.        ,   9.19089767,  13.38382232],\n",
              "       [  0.        ,  10.09274492,  12.28812435],\n",
              "       [  0.        ,   4.7846421 ,   5.00984032],\n",
              "       [  0.        ,   4.00372327,  13.42924048],\n",
              "       [  0.        ,   6.61083958,  11.43025809],\n",
              "       [  0.        ,   6.02668234,   8.98994994],\n",
              "       [  0.        ,  11.41958843,  11.83559884],\n",
              "       [  0.        ,   5.00984032,   5.41789627],\n",
              "       [  0.        ,   9.48382834,   9.62210476],\n",
              "       [  0.        ,   2.65471279,   9.48382834],\n",
              "       [  0.        ,  10.80710414,  11.3121616 ],\n",
              "       [  0.        ,  35.41838506,  37.49091757],\n",
              "       [  0.        ,  13.51896283,  14.23575765],\n",
              "       [  0.        ,   5.80591939,   8.02720375],\n",
              "       [  0.        ,   8.2428325 ,   9.28263432],\n",
              "       [  0.        ,  29.40539406,  37.62846396],\n",
              "       [  0.        ,   7.69095573,  10.84988018],\n",
              "       [  0.        ,  11.44644486,  12.05419844],\n",
              "       [  0.        ,  10.05637111,  14.28888379],\n",
              "       [  0.        ,  14.04590332,  19.15215393],\n",
              "       [  0.        ,  13.67347798,  24.39890366],\n",
              "       [  0.        ,  11.20732796,  14.40172212],\n",
              "       [  0.        ,  12.38165982,  34.53971482],\n",
              "       [  0.        ,   8.26086557,  11.83614802],\n",
              "       [  0.        ,   9.47598544,  11.84363964],\n",
              "       [  0.        ,   6.30237257,   6.8070772 ],\n",
              "       [  0.        ,   7.52514452,   8.99363664],\n",
              "       [  0.        ,   4.00372327,  12.52064295],\n",
              "       [  0.        ,   4.67362814,   9.30306401],\n",
              "       [  0.        ,   7.64159015,   7.73605196],\n",
              "       [  0.        ,   8.25576768,  10.32989351],\n",
              "       [  0.        ,   9.47598544,  17.61428114],\n",
              "       [  0.        ,   9.50830164,  10.87158222],\n",
              "       [  0.        ,  13.71577923,  15.19060894],\n",
              "       [  0.        ,   6.3350217 ,   8.28180536],\n",
              "       [  0.        ,  12.38165982,  22.44993987],\n",
              "       [  0.        ,  11.11910068,  11.83559884],\n",
              "       [  0.        ,  54.3927725 ,  55.25199634],\n",
              "       [  0.        ,  13.67932016,  23.80129408],\n",
              "       [  0.        ,   8.49109534,   8.98994994],\n",
              "       [  0.        ,   7.63179533,  11.20821574],\n",
              "       [  0.        ,   5.32056388,   8.75666032],\n",
              "       [  0.        ,  11.83614802,  13.83576886],\n",
              "       [  0.        ,   3.47925279,   7.64159015],\n",
              "       [  0.        ,  11.00652534,  11.44644486],\n",
              "       [  0.        ,   6.02668234,   8.02720375],\n",
              "       [  0.        ,   8.25576768,  12.21564571],\n",
              "       [  0.        ,   4.98254955,  10.34109279],\n",
              "       [  0.        ,   2.65471279,   8.42908061],\n",
              "       [  0.        ,   7.74248022,   8.28180536],\n",
              "       [  0.        ,   4.98254955,  13.85053068],\n",
              "       [  0.        ,   5.41789627,   8.77615519],\n",
              "       [  0.        ,   9.74282813,  11.54594301],\n",
              "       [  0.        ,  10.34109279,  13.85053068],\n",
              "       [  0.        ,   8.1382492 ,  10.18831684],\n",
              "       [  0.        ,   8.49109534,  11.00652534],\n",
              "       [  0.        ,   6.65284901,   7.1940948 ],\n",
              "       [  0.        ,   5.32056388,   5.80591939],\n",
              "       [  0.        ,   4.67362814,   6.3350217 ],\n",
              "       [  0.        ,  11.11910068,  11.41958843],\n",
              "       [  0.        ,   9.64855948,  10.31898735],\n",
              "       [  0.        ,   3.47925279,   7.73605196],\n",
              "       [  0.        ,   6.61083958,  11.74332151],\n",
              "       [  0.        ,  19.07967767,  19.55066239],\n",
              "       [  0.        ,  13.10595666,  21.45575214],\n",
              "       [  0.        ,   4.46960848,   4.61326349],\n",
              "       [  0.        ,   4.53049666,   4.61326349],\n",
              "       [  0.        ,   4.46960848,   4.53049666],\n",
              "       [  0.        ,  10.82345139,  14.41958737],\n",
              "       [  0.        ,   9.28263432,  11.20732796],\n",
              "       [  0.        ,  10.82345139,  12.42401706],\n",
              "       [  0.        ,   9.22796836,  17.80983717],\n",
              "       [  0.        ,  13.42565455,  13.67932016],\n",
              "       [  0.        ,  12.80732212,  14.89649288],\n",
              "       [  0.        ,   4.78493469,  11.15645105],\n",
              "       [  0.        ,   8.1382492 ,  10.14001479],\n",
              "       [  0.        ,   8.8659912 ,  11.20821574],\n",
              "       [  0.        ,  12.16447697,  15.97815697],\n",
              "       [  0.        ,   7.7658805 ,   8.26086557],\n",
              "       [  0.        ,   5.9715827 ,   8.25532555],\n",
              "       [  0.        ,   9.22796836,  16.82586402],\n",
              "       [  0.        ,  11.54613355,  11.61047372],\n",
              "       [  0.        ,  10.14001479,  10.18831684],\n",
              "       [  0.        ,  16.7830897 ,  32.23527726],\n",
              "       [  0.        ,   5.9715827 ,   7.52514452],\n",
              "       [  0.        ,  12.68220407,  12.75693929],\n",
              "       [  0.        ,  12.17651839,  17.18625323],\n",
              "       [  0.        ,  16.612098  ,  19.72341248],\n",
              "       [  0.        ,   8.10029012,  10.53494186],\n",
              "       [  0.        ,   7.99490463,  11.15669306],\n",
              "       [  0.        ,   8.8659912 ,  10.30612439],\n",
              "       [  0.        ,  15.5540027 ,  18.64967024],\n",
              "       [  0.        ,  14.04590332,  23.03601962],\n",
              "       [  0.        ,  19.07967767,  22.02181191],\n",
              "       [  0.        ,  21.80777384,  23.19149629],\n",
              "       [  0.        ,   7.36287987,   9.629325  ],\n",
              "       [  0.        ,  14.29175287,  14.8225234 ],\n",
              "       [  0.        ,   7.7658805 ,  14.66093449],\n",
              "       [  0.        ,  10.72645786,  10.87158222],\n",
              "       [  0.        ,  10.84988018,  14.23575765],\n",
              "       [  0.        ,   9.459963  ,  13.26978146],\n",
              "       [  0.        ,   5.97646216,   7.99490463],\n",
              "       [  0.        ,   2.61070872,   6.8070772 ],\n",
              "       [  0.        ,   5.43518169,   5.69814005],\n",
              "       [  0.        ,   9.74282813,  13.04578476],\n",
              "       [  0.        ,   5.43518169,   6.6033022 ],\n",
              "       [  0.        ,   5.97646216,  11.15669306],\n",
              "       [  0.        ,   2.61070872,   6.30237257],\n",
              "       [  0.        ,  16.55178238,  18.02458599],\n",
              "       [  0.        ,  10.32989351,  11.67141808],\n",
              "       [  0.        ,   3.88500965,  10.80710414],\n",
              "       [  0.        ,  13.42565455,  14.8225234 ],\n",
              "       [  0.        ,   8.25532555,  11.12997754],\n",
              "       [  0.        ,   8.2428325 ,  10.72645786],\n",
              "       [  0.        ,   7.63179533,   9.459963  ],\n",
              "       [  0.        ,  12.59901583,  15.05827679],\n",
              "       [  0.        ,   3.88500965,  11.3121616 ],\n",
              "       [  0.        ,   5.35888981,  11.14076748],\n",
              "       [  0.        ,   5.35888981,   9.59942186],\n",
              "       [  0.        ,   4.78493469,  11.39295396]])"
            ]
          },
          "metadata": {
            "tags": []
          },
          "execution_count": 279
        }
      ]
    },
    {
      "cell_type": "code",
      "metadata": {
        "id": "EQTjlCugC0Bq",
        "colab": {
          "base_uri": "https://localhost:8080/",
          "height": 136
        },
        "outputId": "84563348-aa08-4ecc-ecc8-6dba1aaefde5"
      },
      "source": [
        "nbrs.kneighbors_graph(X).toarray()"
      ],
      "execution_count": null,
      "outputs": [
        {
          "output_type": "execute_result",
          "data": {
            "text/plain": [
              "array([[1., 0., 0., ..., 0., 0., 0.],\n",
              "       [0., 1., 0., ..., 0., 0., 0.],\n",
              "       [0., 0., 1., ..., 0., 0., 0.],\n",
              "       ...,\n",
              "       [0., 0., 0., ..., 1., 1., 0.],\n",
              "       [0., 0., 0., ..., 1., 1., 0.],\n",
              "       [0., 0., 0., ..., 0., 0., 1.]])"
            ]
          },
          "metadata": {
            "tags": []
          },
          "execution_count": 280
        }
      ]
    },
    {
      "cell_type": "code",
      "metadata": {
        "id": "djxMKX74C2Ui",
        "colab": {
          "base_uri": "https://localhost:8080/",
          "height": 238
        },
        "outputId": "6a26cde0-6a7e-4eec-f0a3-ac6dd3cbb035"
      },
      "source": [
        "nbrs.kneighbors_graph(X, mode = 'distance').toarray()"
      ],
      "execution_count": null,
      "outputs": [
        {
          "output_type": "execute_result",
          "data": {
            "text/plain": [
              "array([[0.        , 0.        , 0.        , ..., 0.        , 0.        ,\n",
              "        0.        ],\n",
              "       [0.        , 0.        , 0.        , ..., 0.        , 0.        ,\n",
              "        0.        ],\n",
              "       [0.        , 0.        , 0.        , ..., 0.        , 0.        ,\n",
              "        0.        ],\n",
              "       ...,\n",
              "       [0.        , 0.        , 0.        , ..., 0.        , 5.35888981,\n",
              "        0.        ],\n",
              "       [0.        , 0.        , 0.        , ..., 5.35888981, 0.        ,\n",
              "        0.        ],\n",
              "       [0.        , 0.        , 0.        , ..., 0.        , 0.        ,\n",
              "        0.        ]])"
            ]
          },
          "metadata": {
            "tags": []
          },
          "execution_count": 281
        }
      ]
    },
    {
      "cell_type": "markdown",
      "metadata": {
        "id": "tS56JHmcDMIB"
      },
      "source": [
        "## **Gaussian Mixture Model**"
      ]
    },
    {
      "cell_type": "code",
      "metadata": {
        "id": "si7HHNo_Dlg9",
        "colab": {
          "base_uri": "https://localhost:8080/",
          "height": 187
        },
        "outputId": "12e3515a-a29e-49cc-db64-e28429b80edf"
      },
      "source": [
        "from sklearn import mixture\n",
        "gmm = mixture.GaussianMixture(n_components = 3,\n",
        "                              covariance_type = 'full')\n",
        "gmm.fit(X)\n",
        "print(gmm.bic(X))\n",
        "gmm.predict(X)"
      ],
      "execution_count": null,
      "outputs": [
        {
          "output_type": "stream",
          "text": [
            "7429.187191414176\n"
          ],
          "name": "stdout"
        },
        {
          "output_type": "execute_result",
          "data": {
            "text/plain": [
              "array([2, 0, 0, 0, 2, 0, 0, 0, 0, 0, 0, 0, 0, 0, 0, 0, 0, 0, 0, 2, 2, 2,\n",
              "       0, 0, 0, 2, 0, 0, 0, 0, 0, 0, 0, 0, 0, 0, 0, 0, 0, 2, 0, 2, 0, 2,\n",
              "       0, 2, 2, 0, 0, 0, 0, 0, 0, 0, 0, 0, 0, 0, 0, 1, 1, 1, 1, 1, 1, 1,\n",
              "       1, 1, 2, 2, 1, 1, 1, 2, 1, 1, 1, 1, 2, 1, 1, 0, 1, 1, 1, 1, 1, 1,\n",
              "       1, 1, 1, 1, 1, 1, 1, 2, 1, 1, 1, 1, 1, 1, 1, 1, 1, 1, 1, 1, 1, 1,\n",
              "       1, 1, 1, 1, 1, 1, 1, 1, 1, 1, 1, 1, 1, 1, 1, 1, 1, 1, 1, 1, 1, 1,\n",
              "       1, 1, 1, 1, 2, 2, 1, 1, 1, 1, 1, 1, 2, 1, 1, 1, 1, 1, 1, 1, 1, 1,\n",
              "       1, 2, 1, 2, 1, 1, 1, 1, 2, 1, 1, 1, 1, 1, 1, 1, 1, 1, 1, 2, 1, 2,\n",
              "       2, 1])"
            ]
          },
          "metadata": {
            "tags": []
          },
          "execution_count": 282
        }
      ]
    },
    {
      "cell_type": "markdown",
      "metadata": {
        "id": "ONK00dfZMtRF"
      },
      "source": [
        "## **Comparing Clustering Models**"
      ]
    },
    {
      "cell_type": "code",
      "metadata": {
        "id": "qVrLOAEjT83u"
      },
      "source": [
        "# Function For Dunn Index\n",
        "import numpy as np\n",
        "from sklearn.metrics import pairwise_distances\n",
        "\n",
        "def dunn(X, labels):\n",
        "    clusters = {}\n",
        "    for k in range(nb_clusters):\n",
        "        clusters[k] = np.array([X[l, :] for l in range(len(labels)) if labels[l] == k])\n",
        "    max_diameter = max([np.amax(pairwise_distances(clusters[k], clusters[k])) for k in range(nb_clusters)])\n",
        "    min_separation = min([np.amin(pairwise_distances(clusters[k], clusters[l])) for k in range(nb_clusters-1) for l in range(k+1,nb_clusters)])\n",
        "    return min_separation/max_diameter"
      ],
      "execution_count": null,
      "outputs": []
    },
    {
      "cell_type": "code",
      "metadata": {
        "id": "hkuOvjdsM3Gg",
        "colab": {
          "base_uri": "https://localhost:8080/",
          "height": 697
        },
        "outputId": "f731af4c-d7f9-427a-c9bd-6fe11522cf18"
      },
      "source": [
        "# K-Means\n",
        "from sklearn import metrics\n",
        "X = wine.data\n",
        "print(\"Calinski Harabaz Index\")\n",
        "for k in range(2,7):\n",
        "    kmeans_model = KMeans(n_clusters=k, init=\"random\", random_state=42).fit(X)\n",
        "    labels = kmeans_model.labels_\n",
        "    print(k,':',metrics.calinski_harabaz_score(X, labels))\n",
        "\n",
        "print(\"\\nDavies Bouldin Index\")\n",
        "for k in range(2,7):\n",
        "    kmeans_model = KMeans(n_clusters=k, init=\"random\", random_state=42).fit(X)\n",
        "    labels = kmeans_model.labels_\n",
        "    print(k,':',metrics.davies_bouldin_score(X, labels))\n",
        "\n",
        "print(\"\\nDunn Index\")\n",
        "for k in range(3,7):\n",
        "    kmeans_model = KMeans(n_clusters=k, init=\"random\", random_state=42).fit(X)\n",
        "    labels = kmeans_model.labels_\n",
        "    print(k,':',dunn(X, labels))\n",
        "\n",
        "print(\"\\nHomogenity\")\n",
        "for k in range(2,7):\n",
        "    kmeans_model = KMeans(n_clusters=k, init=\"random\", random_state=42).fit(X)\n",
        "    labels = kmeans_model.labels_\n",
        "    print(k, ':', \"%.6f\" % metrics.homogeneity_score(y, labels))\n",
        "\n",
        "print(\"\\nCompleteness\")\n",
        "for k in range(2,7):\n",
        "    kmeans_model = KMeans(n_clusters=k, init=\"random\", random_state=42).fit(X)\n",
        "    labels = kmeans_model.labels_\n",
        "    print(k, ':', \"%.6f\" % metrics.completeness_score(y, labels))\n",
        "\n",
        "print(\"\\nV-Measure\")\n",
        "for k in range(2,7):\n",
        "    kmeans_model = KMeans(n_clusters=k, init=\"random\", random_state=42).fit(X)\n",
        "    labels = kmeans_model.labels_\n",
        "    print(k, ':', metrics.homogeneity_completeness_v_measure(y, labels))"
      ],
      "execution_count": null,
      "outputs": [
        {
          "output_type": "stream",
          "text": [
            "Calinski Harabaz Index\n",
            "2 : 505.4293097478468\n",
            "3 : 561.815657860671\n",
            "4 : 708.0866763901622\n",
            "5 : 787.0469221178356\n",
            "6 : 900.4844225298172\n",
            "\n",
            "Davies Bouldin Index\n",
            "2 : 0.4787835759141988\n",
            "3 : 0.5342431775436273\n",
            "4 : 0.5443446908806353\n",
            "5 : 0.5450474069117972\n",
            "6 : 0.46580743101419597\n",
            "\n",
            "Dunn Index\n",
            "3 : 0.016260439155429428\n",
            "4 : 0.07415278654300136\n",
            "5 : 0.06729827951088281\n",
            "6 : 0.07317295089624196\n",
            "\n",
            "Homogenity\n",
            "2 : 0.334199\n",
            "3 : 0.428812\n",
            "4 : 0.427667\n",
            "5 : 0.495139\n",
            "6 : 0.495760\n",
            "\n",
            "Completeness\n",
            "2 : 0.587027\n",
            "3 : 0.428701\n",
            "4 : 0.355793\n",
            "5 : 0.351292\n",
            "6 : 0.334879\n",
            "\n",
            "V-Measure\n",
            "2 : (0.3341985166219701, 0.587027006858955, 0.4259186266746115)\n",
            "3 : (0.42881231997856467, 0.42870141389448585, 0.4287568597645355)\n",
            "4 : (0.42766704377065784, 0.3557931783115363, 0.3884332923957888)\n",
            "5 : (0.4951389069362355, 0.351292227983938, 0.4109925606542485)\n",
            "6 : (0.4957604858576118, 0.33487855403483563, 0.39973934929208504)\n"
          ],
          "name": "stdout"
        }
      ]
    },
    {
      "cell_type": "code",
      "metadata": {
        "id": "qj4lupffNXlr",
        "colab": {
          "base_uri": "https://localhost:8080/",
          "height": 459
        },
        "outputId": "ea96c4be-e792-46a7-e19c-deb924892eab"
      },
      "source": [
        "# K-Means++\n",
        "from sklearn import metrics\n",
        "X = wine.data\n",
        "\n",
        "print(\"Calinski Harabaz Index\")\n",
        "for k in range(2,7):\n",
        "    kmeans_model = KMeans(n_clusters=k, random_state=42).fit(X)\n",
        "    labels = kmeans_model.labels_\n",
        "    print(k,':',metrics.calinski_harabaz_score(X, labels))\n",
        "\n",
        "print(\"\\nDavies Bouldin Index\")\n",
        "for k in range(2,7):\n",
        "    kmeans_model = KMeans(n_clusters=k, random_state=42).fit(X)\n",
        "    labels = kmeans_model.labels_\n",
        "    print(k,':',metrics.davies_bouldin_score(X, labels))\n",
        "\n",
        "print(\"\\nDunn Index\")\n",
        "for k in range(3,7):\n",
        "    kmeans_model = KMeans(n_clusters=k, random_state=42).fit(X)\n",
        "    labels = kmeans_model.labels_\n",
        "    print(k,':',dunn(X, labels))\n",
        "\n",
        "print(\"\\nCompleteness\")\n",
        "for k in range(2,7):\n",
        "    kmeans_model = KMeans(n_clusters=k, random_state=42).fit(X)\n",
        "    labels = kmeans_model.labels_\n",
        "    print(k, ':', \"%.6f\" % metrics.completeness_score(y, labels))"
      ],
      "execution_count": null,
      "outputs": [
        {
          "output_type": "stream",
          "text": [
            "Calinski Harabaz Index\n",
            "2 : 505.4293097478468\n",
            "3 : 561.815657860671\n",
            "4 : 705.1493513270366\n",
            "5 : 787.0469221178355\n",
            "6 : 900.4844225298172\n",
            "\n",
            "Davies Bouldin Index\n",
            "2 : 0.4787835759141988\n",
            "3 : 0.5342431775436273\n",
            "4 : 0.5452194270187711\n",
            "5 : 0.5450474069117972\n",
            "6 : 0.4658074310141959\n",
            "\n",
            "Dunn Index\n",
            "3 : 0.016260439155429428\n",
            "4 : 0.03519731900139411\n",
            "5 : 0.46110867407440154\n",
            "6 : 0.08851994070525493\n",
            "\n",
            "Completeness\n",
            "2 : 0.587027\n",
            "3 : 0.428701\n",
            "4 : 0.336367\n",
            "5 : 0.351292\n",
            "6 : 0.334879\n"
          ],
          "name": "stdout"
        }
      ]
    },
    {
      "cell_type": "code",
      "metadata": {
        "id": "6Q4_otedNkWR",
        "colab": {
          "base_uri": "https://localhost:8080/",
          "height": 459
        },
        "outputId": "fc261e2c-f873-4ae3-93a5-61ed44acdadf"
      },
      "source": [
        "# Mini Batch K-Means\n",
        "from sklearn import metrics\n",
        "X = wine.data\n",
        "\n",
        "print(\"Calinski Harabaz Index\")\n",
        "for k in range(2,7):\n",
        "    model = MiniBatchKMeans(n_clusters=k, init = 'random', random_state = 42).fit(X)\n",
        "    labels = model.labels_\n",
        "    print(k,':',metrics.calinski_harabaz_score(X, labels))\n",
        "\n",
        "print(\"\\nDavies Bouldin Index\")\n",
        "for k in range(2,7):\n",
        "    model = MiniBatchKMeans(n_clusters=k, init = 'random', random_state = 42).fit(X)\n",
        "    labels = model.labels_\n",
        "    print(k,':',metrics.davies_bouldin_score(X, labels))\n",
        "\n",
        "print(\"\\nDunn Index\")\n",
        "for k in range(3,7):\n",
        "    model = MiniBatchKMeans(n_clusters=k, init = 'random', random_state = 42).fit(X)\n",
        "    labels = model.labels_\n",
        "    print(k,':',dunn(X, labels))\n",
        "\n",
        "print(\"\\nCompleteness\")\n",
        "for k in range(2,7):\n",
        "    model = MiniBatchKMeans(n_clusters=k, init = 'random', random_state = 42).fit(X)\n",
        "    labels = model.labels_\n",
        "    print(k, ':', \"%.6f\" % metrics.completeness_score(y, labels))"
      ],
      "execution_count": null,
      "outputs": [
        {
          "output_type": "stream",
          "text": [
            "Calinski Harabaz Index\n",
            "2 : 495.18575952659785\n",
            "3 : 479.86686438482224\n",
            "4 : 690.3822859996543\n",
            "5 : 617.2794030728803\n",
            "6 : 691.0539333579978\n",
            "\n",
            "Davies Bouldin Index\n",
            "2 : 0.4638608610297937\n",
            "3 : 0.5387948545321057\n",
            "4 : 0.5501008109734598\n",
            "5 : 0.6139619593337949\n",
            "6 : 0.6250530546961276\n",
            "\n",
            "Dunn Index\n",
            "3 : 0.04129173086364802\n",
            "4 : 0.06682105655722684\n",
            "5 : 0.08313392546390812\n",
            "6 : 0.08313392546390812\n",
            "\n",
            "Completeness\n",
            "2 : 0.645297\n",
            "3 : 0.479789\n",
            "4 : 0.368265\n",
            "5 : 0.324111\n",
            "6 : 0.330493\n"
          ],
          "name": "stdout"
        }
      ]
    },
    {
      "cell_type": "code",
      "metadata": {
        "id": "B--1bVg4OAbW",
        "colab": {
          "base_uri": "https://localhost:8080/",
          "height": 459
        },
        "outputId": "30ea1509-04ed-46f9-af5b-85026736c1ea"
      },
      "source": [
        "# K-Modes\n",
        "from sklearn import metrics\n",
        "X = wine.data\n",
        "\n",
        "print(\"Calinski Harabaz Index\")\n",
        "for k in range(2,7):\n",
        "    km = KModes(n_clusters=k, init='Huang', n_init=5)\n",
        "    clusters = km.fit_predict(X)\n",
        "    labels = km.labels_\n",
        "    print(k,':',metrics.calinski_harabaz_score(X, labels))\n",
        "\n",
        "print(\"\\nDavies Bouldin Index\")\n",
        "for k in range(2,7):\n",
        "    km = KModes(n_clusters=k, init='Huang', n_init=5)\n",
        "    clusters = km.fit_predict(X)\n",
        "    labels = km.labels_\n",
        "    print(k,':',metrics.davies_bouldin_score(X, labels))\n",
        "\n",
        "print(\"\\nDunn Index\")\n",
        "for k in range(3,7):\n",
        "    km = KModes(n_clusters=k, init='Huang', n_init=5)\n",
        "    clusters = km.fit_predict(X)\n",
        "    labels = km.labels_\n",
        "    print(k,':',dunn(X, labels))\n",
        "\n",
        "print(\"\\nCompleteness\")\n",
        "for k in range(2,7):\n",
        "    km = KModes(n_clusters=k, init='Huang', n_init=5)\n",
        "    clusters = km.fit_predict(X)\n",
        "    labels = km.labels_\n",
        "    print(k, ':', \"%.6f\" % metrics.completeness_score(y, labels))"
      ],
      "execution_count": null,
      "outputs": [
        {
          "output_type": "stream",
          "text": [
            "Calinski Harabaz Index\n",
            "2 : 0.5273301863514083\n",
            "3 : 1.9995697497463638\n",
            "4 : 2.8052156473412855\n",
            "5 : 1.5222049839962308\n",
            "6 : 1.7436906637185847\n",
            "\n",
            "Davies Bouldin Index\n",
            "2 : 5.364201721459019\n",
            "3 : 19.70421887908954\n",
            "4 : 11.975448246433443\n",
            "5 : 13.900388985872585\n",
            "6 : 37.10451891731984\n",
            "\n",
            "Dunn Index\n",
            "3 : 0.0024812958055082284\n",
            "4 : 0.0023902105918329137\n",
            "5 : 0.002538489684857104\n",
            "6 : 0.002160653468701206\n",
            "\n",
            "Completeness\n",
            "2 : 0.000127\n",
            "3 : 0.053124\n",
            "4 : 0.027598\n",
            "5 : 0.052518\n",
            "6 : 0.031166\n"
          ],
          "name": "stdout"
        }
      ]
    },
    {
      "cell_type": "code",
      "metadata": {
        "id": "ppIrwdQLOlEL",
        "colab": {
          "base_uri": "https://localhost:8080/",
          "height": 459
        },
        "outputId": "bb565d88-474e-472f-914a-08037acfeed5"
      },
      "source": [
        "# Agglomerative Clustering\n",
        "from sklearn import metrics\n",
        "X = wine.data\n",
        "\n",
        "print(\"Calinski Harabaz Index\")\n",
        "for k in range(2,7):\n",
        "    clustering = AgglomerativeClustering(n_clusters=k).fit(X)\n",
        "    labels = clustering.labels_\n",
        "    print(k,':',metrics.calinski_harabaz_score(X, labels))\n",
        "\n",
        "print(\"\\nDavies Bouldin Index\")\n",
        "for k in range(2,7):\n",
        "    clustering = AgglomerativeClustering(n_clusters=k).fit(X)\n",
        "    labels = clustering.labels_\n",
        "    print(k,':',metrics.davies_bouldin_score(X, labels))\n",
        "\n",
        "print(\"\\nDunn Index\")\n",
        "for k in range(3,7):\n",
        "    clustering = AgglomerativeClustering(n_clusters=k).fit(X)\n",
        "    labels = clustering.labels_\n",
        "    print(k,':',dunn(X, labels))\n",
        "\n",
        "print(\"\\nCompleteness\")\n",
        "for k in range(2,7):\n",
        "    clustering = AgglomerativeClustering(n_clusters=k).fit(X)\n",
        "    labels = clustering.labels_\n",
        "    print(k, ':', \"%.6f\" % metrics.completeness_score(y, labels))"
      ],
      "execution_count": null,
      "outputs": [
        {
          "output_type": "stream",
          "text": [
            "Calinski Harabaz Index\n",
            "2 : 483.1128599196659\n",
            "3 : 552.851711505718\n",
            "4 : 670.6259906052811\n",
            "5 : 684.2226128880217\n",
            "6 : 814.2242035081804\n",
            "\n",
            "Davies Bouldin Index\n",
            "2 : 0.45861673032676625\n",
            "3 : 0.5357343073560207\n",
            "4 : 0.5535739500227235\n",
            "5 : 0.5513145248753493\n",
            "6 : 0.5186457296101825\n",
            "\n",
            "Dunn Index\n",
            "3 : 0.022374511405767756\n",
            "4 : 0.03740175033859263\n",
            "5 : 0.03740175033859263\n",
            "6 : 0.03740175033859263\n",
            "\n",
            "Completeness\n",
            "2 : 0.612342\n",
            "3 : 0.416293\n",
            "4 : 0.361078\n",
            "5 : 0.320162\n",
            "6 : 0.299249\n"
          ],
          "name": "stdout"
        }
      ]
    },
    {
      "cell_type": "markdown",
      "metadata": {
        "id": "6X72tK2UfDXn"
      },
      "source": [
        "# **Dimensionality Reduction**"
      ]
    },
    {
      "cell_type": "markdown",
      "metadata": {
        "id": "SsJ_dfRzinfM"
      },
      "source": [
        "## **PCA**"
      ]
    },
    {
      "cell_type": "code",
      "metadata": {
        "id": "RPcTdbChpt5p"
      },
      "source": [
        "X = wine.data\n",
        "y = wine.target"
      ],
      "execution_count": null,
      "outputs": []
    },
    {
      "cell_type": "code",
      "metadata": {
        "id": "lXmLttaPjz8B"
      },
      "source": [
        "# Feature Scaling\n",
        "from sklearn.preprocessing import StandardScaler\n",
        "sc = StandardScaler()\n",
        "wine_X = sc.fit_transform(X)"
      ],
      "execution_count": null,
      "outputs": []
    },
    {
      "cell_type": "code",
      "metadata": {
        "id": "-5is9uymnhgR"
      },
      "source": [
        "# Applying PCA\n",
        "from sklearn.decomposition import PCA\n",
        "pca = PCA(n_components = 2)\n",
        "wine_X = pca.fit_transform(X)\n",
        "explained_variance = pca.explained_variance_ratio_"
      ],
      "execution_count": null,
      "outputs": []
    },
    {
      "cell_type": "code",
      "metadata": {
        "id": "4w5CuVLtnpIY",
        "colab": {
          "base_uri": "https://localhost:8080/",
          "height": 34
        },
        "outputId": "187590a9-2593-44d0-ef54-d66a47ce052a"
      },
      "source": [
        "print(explained_variance)"
      ],
      "execution_count": null,
      "outputs": [
        {
          "output_type": "stream",
          "text": [
            "[0.99809123 0.00173592]\n"
          ],
          "name": "stdout"
        }
      ]
    },
    {
      "cell_type": "code",
      "metadata": {
        "id": "GUJGGMPDnq6l",
        "colab": {
          "base_uri": "https://localhost:8080/",
          "height": 34
        },
        "outputId": "99fdb6d4-a9ee-413b-e498-f0e71d8b9a10"
      },
      "source": [
        "print(explained_variance.sum())"
      ],
      "execution_count": null,
      "outputs": [
        {
          "output_type": "stream",
          "text": [
            "0.9998271461166032\n"
          ],
          "name": "stdout"
        }
      ]
    },
    {
      "cell_type": "code",
      "metadata": {
        "id": "vnlqYHFToq2C",
        "colab": {
          "base_uri": "https://localhost:8080/",
          "height": 34
        },
        "outputId": "fac13187-ff2d-4cd1-e7d8-8d1bc1d37bdf"
      },
      "source": [
        "wine_X.shape"
      ],
      "execution_count": null,
      "outputs": [
        {
          "output_type": "execute_result",
          "data": {
            "text/plain": [
              "(178, 2)"
            ]
          },
          "metadata": {
            "tags": []
          },
          "execution_count": 370
        }
      ]
    },
    {
      "cell_type": "code",
      "metadata": {
        "id": "uRikXscPn3tV",
        "colab": {
          "base_uri": "https://localhost:8080/",
          "height": 481
        },
        "outputId": "f39a22cb-431b-4925-a88b-4de25f734333"
      },
      "source": [
        "%matplotlib inline\n",
        "import matplotlib.pyplot as plt\n",
        "\n",
        "fig = plt.figure(figsize=(20,7))\n",
        "\n",
        "ax = fig.add_subplot(121)\n",
        "ax.scatter(X[:,0],X[:,1],c=y)\n",
        "ax.set_title('Before PCA')\n",
        "\n",
        "ax2 = fig.add_subplot(122)\n",
        "ax2.scatter(wine_X[:,0],wine_X[:,1],c=y)\n",
        "ax2.set_title('After PCA')"
      ],
      "execution_count": null,
      "outputs": [
        {
          "output_type": "execute_result",
          "data": {
            "text/plain": [
              "Text(0.5, 1.0, 'Après PCA')"
            ]
          },
          "metadata": {
            "tags": []
          },
          "execution_count": 371
        },
        {
          "output_type": "display_data",
          "data": {
            "image/png": "[encoded data removed]",
            "text/plain": [
              "<Figure size 1440x504 with 2 Axes>"
            ]
          },
          "metadata": {
            "tags": []
          }
        }
      ]
    },
    {
      "cell_type": "markdown",
      "metadata": {
        "id": "YqvYuuEYrXFO"
      },
      "source": [
        "## **t-SNE**"
      ]
    },
    {
      "cell_type": "code",
      "metadata": {
        "id": "J2WWO22xqetD",
        "colab": {
          "base_uri": "https://localhost:8080/",
          "height": 282
        },
        "outputId": "87cfab91-8ef6-4cfa-ee4e-cb8a043966b6"
      },
      "source": [
        "from sklearn.manifold import TSNE\n",
        "\n",
        "wine_tsne = TSNE(learning_rate=200).fit_transform(X)\n",
        "plt.scatter(wine_tsne[:, 0], wine_tsne[:, 1], c=y,s=40)"
      ],
      "execution_count": null,
      "outputs": [
        {
          "output_type": "execute_result",
          "data": {
            "text/plain": [
              "<matplotlib.collections.PathCollection at 0x7ff0f5409dd8>"
            ]
          },
          "metadata": {
            "tags": []
          },
          "execution_count": 379
        },
        {
          "output_type": "display_data",
          "data": {
            "image/png": "[encoded data removed]",
            "text/plain": [
              "<Figure size 432x288 with 1 Axes>"
            ]
          },
          "metadata": {
            "tags": []
          }
        }
      ]
    },
    {
      "cell_type": "markdown",
      "metadata": {
        "id": "lPsSAX2DsVW1"
      },
      "source": [
        "## **Truncated SVD**"
      ]
    },
    {
      "cell_type": "code",
      "metadata": {
        "id": "S1AscsX2rnB5",
        "colab": {
          "base_uri": "https://localhost:8080/",
          "height": 282
        },
        "outputId": "c61c157d-a337-4d26-81d7-ab2aec452924"
      },
      "source": [
        "from sklearn.decomposition import TruncatedSVD\n",
        "svd = TruncatedSVD(2)\n",
        "wine_svd = svd.fit_transform(X)\n",
        "plt.scatter(wine_svd[:,0],wine_svd[:,1],c=y,s=40)"
      ],
      "execution_count": null,
      "outputs": [
        {
          "output_type": "execute_result",
          "data": {
            "text/plain": [
              "<matplotlib.collections.PathCollection at 0x7ff0f59263c8>"
            ]
          },
          "metadata": {
            "tags": []
          },
          "execution_count": 387
        },
        {
          "output_type": "display_data",
          "data": {
            "image/png": "[encoded data removed]",
            "text/plain": [
              "<Figure size 432x288 with 1 Axes>"
            ]
          },
          "metadata": {
            "tags": []
          }
        }
      ]
    },
    {
      "cell_type": "markdown",
      "metadata": {
        "id": "r_pPrHr_zoWZ"
      },
      "source": [
        "## **Factor Analysis**"
      ]
    },
    {
      "cell_type": "code",
      "metadata": {
        "id": "XUQO-8xqzqdp",
        "colab": {
          "base_uri": "https://localhost:8080/",
          "height": 282
        },
        "outputId": "193ce87b-447f-4bcd-eb55-30e950ef7c8c"
      },
      "source": [
        "from sklearn.decomposition import FactorAnalysis\n",
        "fa = FactorAnalysis(n_components=2)\n",
        "wine_fa = fa.fit_transform(X)\n",
        "plt.scatter(wine_fa[:,0],wine_fa[:,1],c=y,s=40)"
      ],
      "execution_count": null,
      "outputs": [
        {
          "output_type": "execute_result",
          "data": {
            "text/plain": [
              "<matplotlib.collections.PathCollection at 0x7ff0f2fed748>"
            ]
          },
          "metadata": {
            "tags": []
          },
          "execution_count": 394
        },
        {
          "output_type": "display_data",
          "data": {
            "image/png": "[encoded data removed]",
            "text/plain": [
              "<Figure size 432x288 with 1 Axes>"
            ]
          },
          "metadata": {
            "tags": []
          }
        }
      ]
    },
    {
      "cell_type": "markdown",
      "metadata": {
        "id": "mlsd2S590Xl2"
      },
      "source": [
        "## **Isomap**"
      ]
    },
    {
      "cell_type": "code",
      "metadata": {
        "id": "B8CrcqtlzvtG",
        "colab": {
          "base_uri": "https://localhost:8080/",
          "height": 282
        },
        "outputId": "b9606943-b1f7-4d1a-cf54-d68afe88a75b"
      },
      "source": [
        "from sklearn.manifold import Isomap\n",
        "wine_ISO = Isomap(n_components = 2).fit_transform(X)\n",
        "plt.scatter(wine_ISO[:, 0], wine_ISO[:, 1], c=y, s=40)"
      ],
      "execution_count": null,
      "outputs": [
        {
          "output_type": "execute_result",
          "data": {
            "text/plain": [
              "<matplotlib.collections.PathCollection at 0x7ff0f2f89ba8>"
            ]
          },
          "metadata": {
            "tags": []
          },
          "execution_count": 395
        },
        {
          "output_type": "display_data",
          "data": {
            "image/png": "[encoded data removed]",
            "text/plain": [
              "<Figure size 432x288 with 1 Axes>"
            ]
          },
          "metadata": {
            "tags": []
          }
        }
      ]
    },
    {
      "cell_type": "markdown",
      "metadata": {
        "id": "gh1vqlXI1Ip8"
      },
      "source": [
        "## **Multidimensional Scaling**"
      ]
    },
    {
      "cell_type": "code",
      "metadata": {
        "id": "qMCijXyN0T8k",
        "colab": {
          "base_uri": "https://localhost:8080/",
          "height": 282
        },
        "outputId": "86715ea7-55e3-4efc-da4b-25c6a42a3d53"
      },
      "source": [
        "from sklearn.manifold import MDS\n",
        "wine_MDS = MDS(n_components = 2).fit_transform(X)\n",
        "plt.scatter(wine_MDS[:, 0], wine_MDS[:, 1], c=y, s=40)"
      ],
      "execution_count": null,
      "outputs": [
        {
          "output_type": "execute_result",
          "data": {
            "text/plain": [
              "<matplotlib.collections.PathCollection at 0x7ff0f2e0ee48>"
            ]
          },
          "metadata": {
            "tags": []
          },
          "execution_count": 399
        },
        {
          "output_type": "display_data",
          "data": {
            "image/png": "[encoded data removed]",
            "text/plain": [
              "<Figure size 432x288 with 1 Axes>"
            ]
          },
          "metadata": {
            "tags": []
          }
        }
      ]
    }
  ]
}